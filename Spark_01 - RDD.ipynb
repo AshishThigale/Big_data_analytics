{
 "cells": [
  {
   "cell_type": "code",
   "execution_count": 1,
   "id": "47ef9b52",
   "metadata": {},
   "outputs": [],
   "source": [
    "import pyspark"
   ]
  },
  {
   "cell_type": "code",
   "execution_count": 2,
   "id": "cd993a76",
   "metadata": {},
   "outputs": [],
   "source": [
    "from pyspark.sql import SparkSession"
   ]
  },
  {
   "cell_type": "code",
   "execution_count": 3,
   "id": "3e5d4acd",
   "metadata": {},
   "outputs": [],
   "source": [
    "import findspark\n",
    "findspark.init()"
   ]
  },
  {
   "cell_type": "code",
   "execution_count": 4,
   "id": "606b007c",
   "metadata": {},
   "outputs": [],
   "source": [
    "spark = SparkSession\\\n",
    "              .builder\\\n",
    "              .appName( \"pyspark_training\" )\\\n",
    "              .config( \"spark.driver.host\", \"localhost\" )\\\n",
    "              .getOrCreate()\n",
    "              "
   ]
  },
  {
   "cell_type": "code",
   "execution_count": 5,
   "id": "353831c5",
   "metadata": {},
   "outputs": [
    {
     "data": {
      "text/html": [
       "\n",
       "            <div>\n",
       "                <p><b>SparkSession - in-memory</b></p>\n",
       "                \n",
       "        <div>\n",
       "            <p><b>SparkContext</b></p>\n",
       "\n",
       "            <p><a href=\"http://localhost:4041\">Spark UI</a></p>\n",
       "\n",
       "            <dl>\n",
       "              <dt>Version</dt>\n",
       "                <dd><code>v3.2.0</code></dd>\n",
       "              <dt>Master</dt>\n",
       "                <dd><code>local[*]</code></dd>\n",
       "              <dt>AppName</dt>\n",
       "                <dd><code>pyspark_training</code></dd>\n",
       "            </dl>\n",
       "        </div>\n",
       "        \n",
       "            </div>\n",
       "        "
      ],
      "text/plain": [
       "<pyspark.sql.session.SparkSession at 0x1d83e97e400>"
      ]
     },
     "execution_count": 5,
     "metadata": {},
     "output_type": "execute_result"
    }
   ],
   "source": [
    " spark"
   ]
  },
  {
   "cell_type": "code",
   "execution_count": 6,
   "id": "e6881a4f",
   "metadata": {},
   "outputs": [
    {
     "data": {
      "text/html": [
       "\n",
       "            <div>\n",
       "                <p><b>SparkSession - in-memory</b></p>\n",
       "                \n",
       "        <div>\n",
       "            <p><b>SparkContext</b></p>\n",
       "\n",
       "            <p><a href=\"http://localhost:4041\">Spark UI</a></p>\n",
       "\n",
       "            <dl>\n",
       "              <dt>Version</dt>\n",
       "                <dd><code>v3.2.0</code></dd>\n",
       "              <dt>Master</dt>\n",
       "                <dd><code>local[*]</code></dd>\n",
       "              <dt>AppName</dt>\n",
       "                <dd><code>pyspark_training</code></dd>\n",
       "            </dl>\n",
       "        </div>\n",
       "        \n",
       "            </div>\n",
       "        "
      ],
      "text/plain": [
       "<pyspark.sql.session.SparkSession at 0x1d83e97e400>"
      ]
     },
     "execution_count": 6,
     "metadata": {},
     "output_type": "execute_result"
    }
   ],
   "source": [
    "spark.getActiveSession()"
   ]
  },
  {
   "cell_type": "code",
   "execution_count": 7,
   "id": "1cfc07bd",
   "metadata": {},
   "outputs": [
    {
     "data": {
      "text/plain": [
       "'3.2.0'"
      ]
     },
     "execution_count": 7,
     "metadata": {},
     "output_type": "execute_result"
    }
   ],
   "source": [
    "spark.version"
   ]
  },
  {
   "cell_type": "code",
   "execution_count": 8,
   "id": "aeafd2c0",
   "metadata": {},
   "outputs": [
    {
     "data": {
      "text/plain": [
       "'local-1679037373500'"
      ]
     },
     "execution_count": 8,
     "metadata": {},
     "output_type": "execute_result"
    }
   ],
   "source": [
    "spark.sparkContext.applicationId"
   ]
  },
  {
   "cell_type": "code",
   "execution_count": 9,
   "id": "1cb3f2ca",
   "metadata": {},
   "outputs": [],
   "source": [
    "sc = spark.sparkContext"
   ]
  },
  {
   "cell_type": "code",
   "execution_count": 10,
   "id": "0fd3c890",
   "metadata": {},
   "outputs": [
    {
     "data": {
      "text/plain": [
       "1679037371798"
      ]
     },
     "execution_count": 10,
     "metadata": {},
     "output_type": "execute_result"
    }
   ],
   "source": [
    "sc.startTime"
   ]
  },
  {
   "cell_type": "code",
   "execution_count": 11,
   "id": "5249e10e",
   "metadata": {},
   "outputs": [],
   "source": [
    "sc.setLogLevel('INFO')"
   ]
  },
  {
   "cell_type": "code",
   "execution_count": 12,
   "id": "b22415fe",
   "metadata": {},
   "outputs": [
    {
     "data": {
      "text/plain": [
       "'http://LAPTOP-9BMJ89EQ:4040'"
      ]
     },
     "execution_count": 12,
     "metadata": {},
     "output_type": "execute_result"
    }
   ],
   "source": [
    "sc.uiWebUrl"
   ]
  },
  {
   "cell_type": "code",
   "execution_count": 13,
   "id": "daa56b69",
   "metadata": {},
   "outputs": [],
   "source": [
    "import os "
   ]
  },
  {
   "cell_type": "code",
   "execution_count": 14,
   "id": "7623fc67",
   "metadata": {},
   "outputs": [
    {
     "data": {
      "text/plain": [
       "'C:\\\\Hadoop'"
      ]
     },
     "execution_count": 14,
     "metadata": {},
     "output_type": "execute_result"
    }
   ],
   "source": [
    "os.environ.get('HADOOP_HOME')"
   ]
  },
  {
   "cell_type": "markdown",
   "id": "8f2be2dc",
   "metadata": {},
   "source": [
    "# Create an RDD using range"
   ]
  },
  {
   "cell_type": "code",
   "execution_count": 15,
   "id": "ad3eca93",
   "metadata": {},
   "outputs": [
    {
     "data": {
      "text/plain": [
       "[11, 13, 15, 17, 19]"
      ]
     },
     "execution_count": 15,
     "metadata": {},
     "output_type": "execute_result"
    }
   ],
   "source": [
    "list(range(11,20,2))"
   ]
  },
  {
   "cell_type": "code",
   "execution_count": 16,
   "id": "29def7f3",
   "metadata": {},
   "outputs": [],
   "source": [
    "rdd_range = sc.parallelize(range(20))"
   ]
  },
  {
   "cell_type": "code",
   "execution_count": 17,
   "id": "1e22dda0",
   "metadata": {},
   "outputs": [
    {
     "data": {
      "text/plain": [
       "20"
      ]
     },
     "execution_count": 17,
     "metadata": {},
     "output_type": "execute_result"
    }
   ],
   "source": [
    "rdd_range.count()"
   ]
  },
  {
   "cell_type": "code",
   "execution_count": 18,
   "id": "8174c364",
   "metadata": {},
   "outputs": [
    {
     "data": {
      "text/plain": [
       "[0, 1, 2, 3, 4, 5, 6, 7, 8, 9, 10, 11, 12, 13, 14, 15, 16, 17, 18, 19]"
      ]
     },
     "execution_count": 18,
     "metadata": {},
     "output_type": "execute_result"
    }
   ],
   "source": [
    "rdd_range.collect()"
   ]
  },
  {
   "cell_type": "markdown",
   "id": "e6b39cc0",
   "metadata": {},
   "source": [
    "# Create an RDD using list"
   ]
  },
  {
   "cell_type": "code",
   "execution_count": 19,
   "id": "74a8cfc8",
   "metadata": {},
   "outputs": [],
   "source": [
    "details = [('Adam',26),('Jack',25),('Rachel',29)]"
   ]
  },
  {
   "cell_type": "code",
   "execution_count": 20,
   "id": "6afb1c75",
   "metadata": {},
   "outputs": [],
   "source": [
    "rdd_details = sc.parallelize(details)"
   ]
  },
  {
   "cell_type": "code",
   "execution_count": 21,
   "id": "d35bf64e",
   "metadata": {},
   "outputs": [
    {
     "data": {
      "text/plain": [
       "pyspark.rdd.RDD"
      ]
     },
     "execution_count": 21,
     "metadata": {},
     "output_type": "execute_result"
    }
   ],
   "source": [
    "type(rdd_details)"
   ]
  },
  {
   "cell_type": "markdown",
   "id": "e543ea69",
   "metadata": {},
   "source": [
    "# Count the number of rows"
   ]
  },
  {
   "cell_type": "code",
   "execution_count": 22,
   "id": "c429c9af",
   "metadata": {},
   "outputs": [],
   "source": [
    "details_count = rdd_details.count()"
   ]
  },
  {
   "cell_type": "code",
   "execution_count": 23,
   "id": "4dac7fed",
   "metadata": {},
   "outputs": [
    {
     "data": {
      "text/plain": [
       "3"
      ]
     },
     "execution_count": 23,
     "metadata": {},
     "output_type": "execute_result"
    }
   ],
   "source": [
    "details_count"
   ]
  },
  {
   "cell_type": "markdown",
   "id": "5b6093e6",
   "metadata": {},
   "source": [
    "# Fetch the first row"
   ]
  },
  {
   "cell_type": "code",
   "execution_count": 24,
   "id": "2a1f00af",
   "metadata": {},
   "outputs": [],
   "source": [
    "details_first = rdd_details.first()"
   ]
  },
  {
   "cell_type": "code",
   "execution_count": 25,
   "id": "21f0939d",
   "metadata": {},
   "outputs": [
    {
     "data": {
      "text/plain": [
       "('Adam', 26)"
      ]
     },
     "execution_count": 25,
     "metadata": {},
     "output_type": "execute_result"
    }
   ],
   "source": [
    "details_first"
   ]
  },
  {
   "cell_type": "code",
   "execution_count": 26,
   "id": "2658c6e5",
   "metadata": {},
   "outputs": [
    {
     "data": {
      "text/plain": [
       "'Adam'"
      ]
     },
     "execution_count": 26,
     "metadata": {},
     "output_type": "execute_result"
    }
   ],
   "source": [
    "details_first[0]"
   ]
  },
  {
   "cell_type": "markdown",
   "id": "f402be04",
   "metadata": {},
   "source": [
    "# Collect should be avoided in case of Huge Datasets - When a collect operation is issued on a RDD, the dataset is copied to the driver, i.e. the master node. A memory exception will be thrown if the dataset is too large to fit in memory"
   ]
  },
  {
   "cell_type": "code",
   "execution_count": 27,
   "id": "5d09338c",
   "metadata": {},
   "outputs": [
    {
     "data": {
      "text/plain": [
       "[('Adam', 26), ('Jack', 25), ('Rachel', 29)]"
      ]
     },
     "execution_count": 27,
     "metadata": {},
     "output_type": "execute_result"
    }
   ],
   "source": [
    "rdd_details.collect()"
   ]
  },
  {
   "cell_type": "code",
   "execution_count": 28,
   "id": "3e3cb6cf",
   "metadata": {},
   "outputs": [
    {
     "name": "stdout",
     "output_type": "stream",
     "text": [
      "Adam-26\n",
      "Jack-25\n",
      "Rachel-29\n"
     ]
    }
   ],
   "source": [
    "for i in rdd_details.collect():\n",
    "    print(i[0]+'-'+str(i[1]))"
   ]
  },
  {
   "cell_type": "code",
   "execution_count": 29,
   "id": "d0f5839c",
   "metadata": {},
   "outputs": [],
   "source": [
    "Name = [i[0] for i in rdd_details.collect()]"
   ]
  },
  {
   "cell_type": "code",
   "execution_count": 30,
   "id": "9b740cc4",
   "metadata": {},
   "outputs": [
    {
     "data": {
      "text/plain": [
       "['Adam', 'Jack', 'Rachel']"
      ]
     },
     "execution_count": 30,
     "metadata": {},
     "output_type": "execute_result"
    }
   ],
   "source": [
    "Name"
   ]
  },
  {
   "cell_type": "markdown",
   "id": "dcca586c",
   "metadata": {},
   "source": [
    "# get n rows"
   ]
  },
  {
   "cell_type": "code",
   "execution_count": 31,
   "id": "652e6dac",
   "metadata": {},
   "outputs": [
    {
     "data": {
      "text/plain": [
       "[('Adam', 26), ('Jack', 25)]"
      ]
     },
     "execution_count": 31,
     "metadata": {},
     "output_type": "execute_result"
    }
   ],
   "source": [
    "rdd_details.take(2)"
   ]
  },
  {
   "cell_type": "markdown",
   "id": "b2e18b1d",
   "metadata": {},
   "source": [
    "# word count"
   ]
  },
  {
   "cell_type": "code",
   "execution_count": 32,
   "id": "b891a490",
   "metadata": {},
   "outputs": [],
   "source": [
    "text = 'Apache Spark is a fast and general-purpose cluster computing system. It provides high-level APIs in Java, Scala, Python and R, and an optimized engine that supports general execution graphs. It also supports a rich set of higher-level tools including Spark SQL for SQL and structured data processing, MLlib for machine learning, GraphX for graph processing, and Spark Streaming'"
   ]
  },
  {
   "cell_type": "code",
   "execution_count": 33,
   "id": "68b40b9f",
   "metadata": {},
   "outputs": [
    {
     "data": {
      "text/plain": [
       "'Apache Spark is a fast and general-purpose cluster computing system. It provides high-level APIs in Java, Scala, Python and R, and an optimized engine that supports general execution graphs. It also supports a rich set of higher-level tools including Spark SQL for SQL and structured data processing, MLlib for machine learning, GraphX for graph processing, and Spark Streaming'"
      ]
     },
     "execution_count": 33,
     "metadata": {},
     "output_type": "execute_result"
    }
   ],
   "source": [
    "text"
   ]
  },
  {
   "cell_type": "code",
   "execution_count": 34,
   "id": "a4010b5f",
   "metadata": {},
   "outputs": [],
   "source": [
    "rdd = sc.parallelize([text])"
   ]
  },
  {
   "cell_type": "code",
   "execution_count": 35,
   "id": "6191d301",
   "metadata": {},
   "outputs": [
    {
     "data": {
      "text/plain": [
       "['Apache Spark is a fast and general-purpose cluster computing system. It provides high-level APIs in Java, Scala, Python and R, and an optimized engine that supports general execution graphs. It also supports a rich set of higher-level tools including Spark SQL for SQL and structured data processing, MLlib for machine learning, GraphX for graph processing, and Spark Streaming']"
      ]
     },
     "execution_count": 35,
     "metadata": {},
     "output_type": "execute_result"
    }
   ],
   "source": [
    "rdd.collect()"
   ]
  },
  {
   "cell_type": "code",
   "execution_count": 36,
   "id": "b60a0f02",
   "metadata": {},
   "outputs": [],
   "source": [
    "def row_split(x):\n",
    "    return x.split(\" \")"
   ]
  },
  {
   "cell_type": "code",
   "execution_count": 37,
   "id": "700c7107",
   "metadata": {},
   "outputs": [
    {
     "data": {
      "text/plain": [
       "['Apache',\n",
       " 'Spark',\n",
       " 'is',\n",
       " 'a',\n",
       " 'fast',\n",
       " 'and',\n",
       " 'general-purpose',\n",
       " 'cluster',\n",
       " 'computing',\n",
       " 'system.',\n",
       " 'It',\n",
       " 'provides',\n",
       " 'high-level',\n",
       " 'APIs',\n",
       " 'in',\n",
       " 'Java,',\n",
       " 'Scala,',\n",
       " 'Python',\n",
       " 'and',\n",
       " 'R,',\n",
       " 'and',\n",
       " 'an',\n",
       " 'optimized',\n",
       " 'engine',\n",
       " 'that',\n",
       " 'supports',\n",
       " 'general',\n",
       " 'execution',\n",
       " 'graphs.',\n",
       " 'It',\n",
       " 'also',\n",
       " 'supports',\n",
       " 'a',\n",
       " 'rich',\n",
       " 'set',\n",
       " 'of',\n",
       " 'higher-level',\n",
       " 'tools',\n",
       " 'including',\n",
       " 'Spark',\n",
       " 'SQL',\n",
       " 'for',\n",
       " 'SQL',\n",
       " 'and',\n",
       " 'structured',\n",
       " 'data',\n",
       " 'processing,',\n",
       " 'MLlib',\n",
       " 'for',\n",
       " 'machine',\n",
       " 'learning,',\n",
       " 'GraphX',\n",
       " 'for',\n",
       " 'graph',\n",
       " 'processing,',\n",
       " 'and',\n",
       " 'Spark',\n",
       " 'Streaming']"
      ]
     },
     "execution_count": 37,
     "metadata": {},
     "output_type": "execute_result"
    }
   ],
   "source": [
    "row_split(text)"
   ]
  },
  {
   "cell_type": "code",
   "execution_count": 38,
   "id": "4c9899c2",
   "metadata": {},
   "outputs": [
    {
     "data": {
      "text/plain": [
       "[['Apache',\n",
       "  'Spark',\n",
       "  'is',\n",
       "  'a',\n",
       "  'fast',\n",
       "  'and',\n",
       "  'general-purpose',\n",
       "  'cluster',\n",
       "  'computing',\n",
       "  'system.',\n",
       "  'It',\n",
       "  'provides',\n",
       "  'high-level',\n",
       "  'APIs',\n",
       "  'in',\n",
       "  'Java,',\n",
       "  'Scala,',\n",
       "  'Python',\n",
       "  'and',\n",
       "  'R,',\n",
       "  'and',\n",
       "  'an',\n",
       "  'optimized',\n",
       "  'engine',\n",
       "  'that',\n",
       "  'supports',\n",
       "  'general',\n",
       "  'execution',\n",
       "  'graphs.',\n",
       "  'It',\n",
       "  'also',\n",
       "  'supports',\n",
       "  'a',\n",
       "  'rich',\n",
       "  'set',\n",
       "  'of',\n",
       "  'higher-level',\n",
       "  'tools',\n",
       "  'including',\n",
       "  'Spark',\n",
       "  'SQL',\n",
       "  'for',\n",
       "  'SQL',\n",
       "  'and',\n",
       "  'structured',\n",
       "  'data',\n",
       "  'processing,',\n",
       "  'MLlib',\n",
       "  'for',\n",
       "  'machine',\n",
       "  'learning,',\n",
       "  'GraphX',\n",
       "  'for',\n",
       "  'graph',\n",
       "  'processing,',\n",
       "  'and',\n",
       "  'Spark',\n",
       "  'Streaming']]"
      ]
     },
     "execution_count": 38,
     "metadata": {},
     "output_type": "execute_result"
    }
   ],
   "source": [
    "l = rdd.map(lambda x:x.split(' ')).collect()\n",
    "l"
   ]
  },
  {
   "cell_type": "code",
   "execution_count": 39,
   "id": "04014e49",
   "metadata": {},
   "outputs": [
    {
     "data": {
      "text/plain": [
       "58"
      ]
     },
     "execution_count": 39,
     "metadata": {},
     "output_type": "execute_result"
    }
   ],
   "source": [
    "len(l[0])"
   ]
  },
  {
   "cell_type": "code",
   "execution_count": 40,
   "id": "2d6254f8",
   "metadata": {},
   "outputs": [],
   "source": [
    "flatten_rdd = rdd.map(lambda x:x.split(' ')).flatMap(lambda x:x)"
   ]
  },
  {
   "cell_type": "code",
   "execution_count": 41,
   "id": "f8dbce42",
   "metadata": {},
   "outputs": [
    {
     "data": {
      "text/plain": [
       "['Apache',\n",
       " 'Spark',\n",
       " 'is',\n",
       " 'a',\n",
       " 'fast',\n",
       " 'and',\n",
       " 'general-purpose',\n",
       " 'cluster',\n",
       " 'computing',\n",
       " 'system.',\n",
       " 'It',\n",
       " 'provides',\n",
       " 'high-level',\n",
       " 'APIs',\n",
       " 'in',\n",
       " 'Java,',\n",
       " 'Scala,',\n",
       " 'Python',\n",
       " 'and',\n",
       " 'R,',\n",
       " 'and',\n",
       " 'an',\n",
       " 'optimized',\n",
       " 'engine',\n",
       " 'that',\n",
       " 'supports',\n",
       " 'general',\n",
       " 'execution',\n",
       " 'graphs.',\n",
       " 'It',\n",
       " 'also',\n",
       " 'supports',\n",
       " 'a',\n",
       " 'rich',\n",
       " 'set',\n",
       " 'of',\n",
       " 'higher-level',\n",
       " 'tools',\n",
       " 'including',\n",
       " 'Spark',\n",
       " 'SQL',\n",
       " 'for',\n",
       " 'SQL',\n",
       " 'and',\n",
       " 'structured',\n",
       " 'data',\n",
       " 'processing,',\n",
       " 'MLlib',\n",
       " 'for',\n",
       " 'machine',\n",
       " 'learning,',\n",
       " 'GraphX',\n",
       " 'for',\n",
       " 'graph',\n",
       " 'processing,',\n",
       " 'and',\n",
       " 'Spark',\n",
       " 'Streaming']"
      ]
     },
     "execution_count": 41,
     "metadata": {},
     "output_type": "execute_result"
    }
   ],
   "source": [
    "flatten_rdd.collect()"
   ]
  },
  {
   "cell_type": "code",
   "execution_count": 42,
   "id": "5ffdbb7c",
   "metadata": {},
   "outputs": [
    {
     "data": {
      "text/plain": [
       "58"
      ]
     },
     "execution_count": 42,
     "metadata": {},
     "output_type": "execute_result"
    }
   ],
   "source": [
    "flatten_rdd.count()"
   ]
  },
  {
   "cell_type": "markdown",
   "id": "4c78996a",
   "metadata": {},
   "source": [
    "# Assign 1 to each word and use reduceByKey to sum each occurance of a word"
   ]
  },
  {
   "cell_type": "code",
   "execution_count": 43,
   "id": "18d2e2db",
   "metadata": {},
   "outputs": [
    {
     "data": {
      "text/plain": [
       "[('Apache', 1),\n",
       " ('Spark', 1),\n",
       " ('is', 1),\n",
       " ('a', 1),\n",
       " ('fast', 1),\n",
       " ('and', 1),\n",
       " ('general-purpose', 1),\n",
       " ('cluster', 1),\n",
       " ('computing', 1),\n",
       " ('system.', 1),\n",
       " ('It', 1),\n",
       " ('provides', 1),\n",
       " ('high-level', 1),\n",
       " ('APIs', 1),\n",
       " ('in', 1),\n",
       " ('Java,', 1),\n",
       " ('Scala,', 1),\n",
       " ('Python', 1),\n",
       " ('and', 1),\n",
       " ('R,', 1),\n",
       " ('and', 1),\n",
       " ('an', 1),\n",
       " ('optimized', 1),\n",
       " ('engine', 1),\n",
       " ('that', 1),\n",
       " ('supports', 1),\n",
       " ('general', 1),\n",
       " ('execution', 1),\n",
       " ('graphs.', 1),\n",
       " ('It', 1),\n",
       " ('also', 1),\n",
       " ('supports', 1),\n",
       " ('a', 1),\n",
       " ('rich', 1),\n",
       " ('set', 1),\n",
       " ('of', 1),\n",
       " ('higher-level', 1),\n",
       " ('tools', 1),\n",
       " ('including', 1),\n",
       " ('Spark', 1),\n",
       " ('SQL', 1),\n",
       " ('for', 1),\n",
       " ('SQL', 1),\n",
       " ('and', 1),\n",
       " ('structured', 1),\n",
       " ('data', 1),\n",
       " ('processing,', 1),\n",
       " ('MLlib', 1),\n",
       " ('for', 1),\n",
       " ('machine', 1),\n",
       " ('learning,', 1),\n",
       " ('GraphX', 1),\n",
       " ('for', 1),\n",
       " ('graph', 1),\n",
       " ('processing,', 1),\n",
       " ('and', 1),\n",
       " ('Spark', 1),\n",
       " ('Streaming', 1)]"
      ]
     },
     "execution_count": 43,
     "metadata": {},
     "output_type": "execute_result"
    }
   ],
   "source": [
    "flatten_rdd.map(lambda x:(x,1)).collect()"
   ]
  },
  {
   "cell_type": "code",
   "execution_count": 44,
   "id": "77d3eb20",
   "metadata": {},
   "outputs": [
    {
     "data": {
      "text/plain": [
       "[('is', 1),\n",
       " ('high-level', 1),\n",
       " ('an', 1),\n",
       " ('of', 1),\n",
       " ('GraphX', 1),\n",
       " ('graph', 1),\n",
       " ('and', 5),\n",
       " ('computing', 1),\n",
       " ('system.', 1),\n",
       " ('graphs.', 1),\n",
       " ('structured', 1),\n",
       " ('Streaming', 1),\n",
       " ('Spark', 3),\n",
       " ('in', 1),\n",
       " ('supports', 2),\n",
       " ('SQL', 2),\n",
       " ('fast', 1),\n",
       " ('cluster', 1),\n",
       " ('R,', 1),\n",
       " ('general', 1),\n",
       " ('also', 1),\n",
       " ('data', 1),\n",
       " ('provides', 1),\n",
       " ('Python', 1),\n",
       " ('engine', 1),\n",
       " ('set', 1),\n",
       " ('machine', 1),\n",
       " ('higher-level', 1),\n",
       " ('Apache', 1),\n",
       " ('It', 2),\n",
       " ('Java,', 1),\n",
       " ('Scala,', 1),\n",
       " ('tools', 1),\n",
       " ('that', 1),\n",
       " ('for', 3),\n",
       " ('general-purpose', 1),\n",
       " ('APIs', 1),\n",
       " ('optimized', 1),\n",
       " ('execution', 1),\n",
       " ('processing,', 2),\n",
       " ('MLlib', 1),\n",
       " ('learning,', 1),\n",
       " ('a', 2),\n",
       " ('rich', 1),\n",
       " ('including', 1)]"
      ]
     },
     "execution_count": 44,
     "metadata": {},
     "output_type": "execute_result"
    }
   ],
   "source": [
    "flatten_rdd.map(lambda x:(x,1)).reduceByKey(lambda x,y: x+y).collect()"
   ]
  },
  {
   "cell_type": "markdown",
   "id": "612ffd20",
   "metadata": {},
   "source": [
    "# New Dataset - Kaggle sofia Air Quality dataset"
   ]
  },
  {
   "cell_type": "code",
   "execution_count": 45,
   "id": "6d2e363b",
   "metadata": {},
   "outputs": [],
   "source": [
    "rdd_bme = sc.textFile('2017-07_bme280sof.csv')"
   ]
  },
  {
   "cell_type": "code",
   "execution_count": 46,
   "id": "f1a770b7",
   "metadata": {},
   "outputs": [
    {
     "data": {
      "text/plain": [
       "pyspark.rdd.RDD"
      ]
     },
     "execution_count": 46,
     "metadata": {},
     "output_type": "execute_result"
    }
   ],
   "source": [
    "type(rdd_bme)"
   ]
  },
  {
   "cell_type": "code",
   "execution_count": 47,
   "id": "f611d4e8",
   "metadata": {},
   "outputs": [
    {
     "data": {
      "text/plain": [
       "701549"
      ]
     },
     "execution_count": 47,
     "metadata": {},
     "output_type": "execute_result"
    }
   ],
   "source": [
    "rdd_bme.count()"
   ]
  },
  {
   "cell_type": "code",
   "execution_count": 48,
   "id": "d0f657a5",
   "metadata": {},
   "outputs": [
    {
     "data": {
      "text/plain": [
       "['id,sensor_id,location,lat,lon,timestamp,pressure,temperature,humidity',\n",
       " '1,2266,1140,42.738,23.272,2017-07-01T00:00:07,95270.27,23.46,62.48',\n",
       " '5,2292,1154,42.663000000000004,23.273000000000003,2017-07-01T00:00:08,94355.83,23.06,59.46',\n",
       " '7,3096,1558,42.7,23.36,2017-07-01T00:00:10,95155.81,26.53,44.38',\n",
       " '9,3428,1727,42.623999999999995,23.406,2017-07-01T00:00:12,94679.57,28.34,38.28']"
      ]
     },
     "execution_count": 48,
     "metadata": {},
     "output_type": "execute_result"
    }
   ],
   "source": [
    "rdd_bme.take(5)"
   ]
  },
  {
   "cell_type": "markdown",
   "id": "6ca3a8c1",
   "metadata": {},
   "source": [
    "# Remove header"
   ]
  },
  {
   "cell_type": "code",
   "execution_count": 49,
   "id": "ba95f434",
   "metadata": {},
   "outputs": [],
   "source": [
    "header = rdd_bme.first()"
   ]
  },
  {
   "cell_type": "code",
   "execution_count": 50,
   "id": "a2fcbf63",
   "metadata": {},
   "outputs": [
    {
     "data": {
      "text/plain": [
       "'id,sensor_id,location,lat,lon,timestamp,pressure,temperature,humidity'"
      ]
     },
     "execution_count": 50,
     "metadata": {},
     "output_type": "execute_result"
    }
   ],
   "source": [
    "header"
   ]
  },
  {
   "cell_type": "code",
   "execution_count": 51,
   "id": "d588fe9a",
   "metadata": {},
   "outputs": [],
   "source": [
    "rdd_bme = rdd_bme.filter(lambda line:line!=header)"
   ]
  },
  {
   "cell_type": "code",
   "execution_count": 52,
   "id": "ab87e180",
   "metadata": {},
   "outputs": [
    {
     "data": {
      "text/plain": [
       "['1,2266,1140,42.738,23.272,2017-07-01T00:00:07,95270.27,23.46,62.48',\n",
       " '5,2292,1154,42.663000000000004,23.273000000000003,2017-07-01T00:00:08,94355.83,23.06,59.46',\n",
       " '7,3096,1558,42.7,23.36,2017-07-01T00:00:10,95155.81,26.53,44.38',\n",
       " '9,3428,1727,42.623999999999995,23.406,2017-07-01T00:00:12,94679.57,28.34,38.28',\n",
       " '10,3472,1750,42.669,23.318,2017-07-01T00:00:13,94327.88,26.31,46.37']"
      ]
     },
     "execution_count": 52,
     "metadata": {},
     "output_type": "execute_result"
    }
   ],
   "source": [
    "rdd_bme.take(5)"
   ]
  },
  {
   "cell_type": "code",
   "execution_count": 53,
   "id": "15fec5f4",
   "metadata": {},
   "outputs": [
    {
     "data": {
      "text/plain": [
       "701548"
      ]
     },
     "execution_count": 53,
     "metadata": {},
     "output_type": "execute_result"
    }
   ],
   "source": [
    "rdd_bme.count()"
   ]
  },
  {
   "cell_type": "markdown",
   "id": "c5d4faa9",
   "metadata": {},
   "source": [
    "# Split the file by ','"
   ]
  },
  {
   "cell_type": "code",
   "execution_count": 54,
   "id": "594e820a",
   "metadata": {},
   "outputs": [],
   "source": [
    "rdd_bme_split = rdd_bme.map(lambda x: x.split(','))"
   ]
  },
  {
   "cell_type": "code",
   "execution_count": 55,
   "id": "fa1b9406",
   "metadata": {},
   "outputs": [
    {
     "data": {
      "text/plain": [
       "[['1',\n",
       "  '2266',\n",
       "  '1140',\n",
       "  '42.738',\n",
       "  '23.272',\n",
       "  '2017-07-01T00:00:07',\n",
       "  '95270.27',\n",
       "  '23.46',\n",
       "  '62.48']]"
      ]
     },
     "execution_count": 55,
     "metadata": {},
     "output_type": "execute_result"
    }
   ],
   "source": [
    "rdd_bme_split.take(1)"
   ]
  },
  {
   "cell_type": "markdown",
   "id": "9c9ab819",
   "metadata": {},
   "source": [
    "# Count the number of sensors"
   ]
  },
  {
   "cell_type": "code",
   "execution_count": 56,
   "id": "69a79382",
   "metadata": {},
   "outputs": [
    {
     "data": {
      "text/plain": [
       "['2266', '3096', '3428', '3472', '1846']"
      ]
     },
     "execution_count": 56,
     "metadata": {},
     "output_type": "execute_result"
    }
   ],
   "source": [
    "rdd_bme_split.map(lambda x: x[1]).distinct().take(5)"
   ]
  },
  {
   "cell_type": "code",
   "execution_count": 57,
   "id": "bc08b9ab",
   "metadata": {},
   "outputs": [
    {
     "data": {
      "text/plain": [
       "56"
      ]
     },
     "execution_count": 57,
     "metadata": {},
     "output_type": "execute_result"
    }
   ],
   "source": [
    "rdd_bme_split.map(lambda x: x[1]).distinct().count()"
   ]
  },
  {
   "cell_type": "code",
   "execution_count": 58,
   "id": "6dee2b24",
   "metadata": {},
   "outputs": [
    {
     "data": {
      "text/plain": [
       "['2266',\n",
       " '3096',\n",
       " '3428',\n",
       " '3472',\n",
       " '1846',\n",
       " '2228',\n",
       " '1954',\n",
       " '3620',\n",
       " '3436',\n",
       " '3092',\n",
       " '2036',\n",
       " '1962',\n",
       " '2607',\n",
       " '2224',\n",
       " '3102',\n",
       " '2216',\n",
       " '2264',\n",
       " '3558',\n",
       " '2262',\n",
       " '1764',\n",
       " '2038',\n",
       " '3500',\n",
       " '3982',\n",
       " '3296',\n",
       " '3642',\n",
       " '3832',\n",
       " '4467',\n",
       " '4475',\n",
       " '4625',\n",
       " '4661',\n",
       " '2292',\n",
       " '1952',\n",
       " '3512',\n",
       " '3438',\n",
       " '3474',\n",
       " '2232',\n",
       " '3738',\n",
       " '2040',\n",
       " '3432',\n",
       " '2294',\n",
       " '2230',\n",
       " '1850',\n",
       " '2234',\n",
       " '3836',\n",
       " '2323',\n",
       " '3326',\n",
       " '3328',\n",
       " '3968',\n",
       " '4358',\n",
       " '4469',\n",
       " '4471',\n",
       " '4473',\n",
       " '4477',\n",
       " '4479',\n",
       " '4558',\n",
       " '4608']"
      ]
     },
     "execution_count": 58,
     "metadata": {},
     "output_type": "execute_result"
    }
   ],
   "source": [
    "rdd_bme_split.map(lambda x:x[1]).distinct().collect()"
   ]
  },
  {
   "cell_type": "markdown",
   "id": "b704eaff",
   "metadata": {},
   "source": [
    "# - find the Number of records in Sensor 2266"
   ]
  },
  {
   "cell_type": "code",
   "execution_count": 59,
   "id": "7cff4d05",
   "metadata": {},
   "outputs": [
    {
     "data": {
      "text/plain": [
       "17708"
      ]
     },
     "execution_count": 59,
     "metadata": {},
     "output_type": "execute_result"
    }
   ],
   "source": [
    "rdd_bme_split.filter(lambda row : row[1]=='2266').count()"
   ]
  },
  {
   "cell_type": "markdown",
   "id": "b9629b45",
   "metadata": {},
   "source": [
    "# Paired rdd (rdd in key/value pair)"
   ]
  },
  {
   "cell_type": "code",
   "execution_count": 60,
   "id": "5f1101de",
   "metadata": {},
   "outputs": [],
   "source": [
    "rdd_bme_paired = rdd_bme.map(lambda row:row.split(',')).map(lambda row:(row[1],row))"
   ]
  },
  {
   "cell_type": "code",
   "execution_count": 61,
   "id": "14a731cd",
   "metadata": {},
   "outputs": [
    {
     "data": {
      "text/plain": [
       "[('2266',\n",
       "  ['1',\n",
       "   '2266',\n",
       "   '1140',\n",
       "   '42.738',\n",
       "   '23.272',\n",
       "   '2017-07-01T00:00:07',\n",
       "   '95270.27',\n",
       "   '23.46',\n",
       "   '62.48']),\n",
       " ('2292',\n",
       "  ['5',\n",
       "   '2292',\n",
       "   '1154',\n",
       "   '42.663000000000004',\n",
       "   '23.273000000000003',\n",
       "   '2017-07-01T00:00:08',\n",
       "   '94355.83',\n",
       "   '23.06',\n",
       "   '59.46'])]"
      ]
     },
     "execution_count": 61,
     "metadata": {},
     "output_type": "execute_result"
    }
   ],
   "source": [
    "rdd_bme_paired.take(2)"
   ]
  },
  {
   "cell_type": "code",
   "execution_count": 62,
   "id": "bfd3e316",
   "metadata": {},
   "outputs": [],
   "source": [
    "List = [1,1,2,2,5,3,6,3,5,4,2,1,4,6]\n",
    "dictionary = {}\n",
    "for l in List:\n",
    "    if l in dictionary.keys():\n",
    "        dictionary[l]+=1\n",
    "    else:\n",
    "        dictionary[l]=1"
   ]
  },
  {
   "cell_type": "code",
   "execution_count": 63,
   "id": "559d48b2",
   "metadata": {},
   "outputs": [
    {
     "data": {
      "text/plain": [
       "{1: 3, 2: 3, 5: 2, 3: 2, 6: 2, 4: 2}"
      ]
     },
     "execution_count": 63,
     "metadata": {},
     "output_type": "execute_result"
    }
   ],
   "source": [
    "dictionary"
   ]
  },
  {
   "cell_type": "code",
   "execution_count": 64,
   "id": "459edae3",
   "metadata": {},
   "outputs": [
    {
     "data": {
      "text/plain": [
       "defaultdict(int,\n",
       "            {'2266': 17708,\n",
       "             '2292': 11003,\n",
       "             '3096': 17201,\n",
       "             '3428': 15258,\n",
       "             '3472': 17931,\n",
       "             '1952': 15383,\n",
       "             '1846': 18184,\n",
       "             '3512': 17070,\n",
       "             '2228': 17893,\n",
       "             '3438': 14333,\n",
       "             '1954': 18201,\n",
       "             '3620': 15696,\n",
       "             '3436': 13028,\n",
       "             '3092': 18152,\n",
       "             '2036': 17982,\n",
       "             '1962': 18216,\n",
       "             '3474': 17941,\n",
       "             '2232': 16145,\n",
       "             '2607': 18156,\n",
       "             '2224': 18025,\n",
       "             '3738': 18132,\n",
       "             '3102': 17845,\n",
       "             '2040': 9762,\n",
       "             '2216': 11661,\n",
       "             '3432': 18084,\n",
       "             '2294': 18079,\n",
       "             '2230': 17617,\n",
       "             '2264': 18208,\n",
       "             '1850': 17703,\n",
       "             '2234': 18008,\n",
       "             '3558': 6998,\n",
       "             '2262': 18184,\n",
       "             '1764': 18198,\n",
       "             '3836': 18108,\n",
       "             '2038': 18053,\n",
       "             '2323': 17370,\n",
       "             '3500': 16818,\n",
       "             '3326': 835,\n",
       "             '3328': 1238,\n",
       "             '3968': 6745,\n",
       "             '3982': 14695,\n",
       "             '3296': 12574,\n",
       "             '3642': 10198,\n",
       "             '3832': 214,\n",
       "             '4358': 7547,\n",
       "             '4467': 3965,\n",
       "             '4469': 4346,\n",
       "             '4471': 4322,\n",
       "             '4473': 4267,\n",
       "             '4475': 3957,\n",
       "             '4477': 4310,\n",
       "             '4479': 4308,\n",
       "             '4558': 3009,\n",
       "             '4608': 2022,\n",
       "             '4625': 579,\n",
       "             '4661': 83})"
      ]
     },
     "execution_count": 64,
     "metadata": {},
     "output_type": "execute_result"
    }
   ],
   "source": [
    "rdd_bme_paired.countByKey()"
   ]
  },
  {
   "cell_type": "markdown",
   "id": "8e68e616",
   "metadata": {},
   "source": [
    "# Union"
   ]
  },
  {
   "cell_type": "code",
   "execution_count": 65,
   "id": "f8c0715a",
   "metadata": {},
   "outputs": [],
   "source": [
    "rdd1 = sc.parallelize([('Phoebe',26),('Monica',24),('Rachel',24)])\n",
    "rdd2 = sc.parallelize([('Ross',26),('Chandler',26),('Joey',25)])"
   ]
  },
  {
   "cell_type": "code",
   "execution_count": 66,
   "id": "c8f4b1e7",
   "metadata": {},
   "outputs": [],
   "source": [
    "rdd_union = rdd1.union(rdd2)"
   ]
  },
  {
   "cell_type": "code",
   "execution_count": 67,
   "id": "a74d40dc",
   "metadata": {},
   "outputs": [
    {
     "data": {
      "text/plain": [
       "[('Phoebe', 26),\n",
       " ('Monica', 24),\n",
       " ('Rachel', 24),\n",
       " ('Ross', 26),\n",
       " ('Chandler', 26),\n",
       " ('Joey', 25)]"
      ]
     },
     "execution_count": 67,
     "metadata": {},
     "output_type": "execute_result"
    }
   ],
   "source": [
    "rdd_union.collect()"
   ]
  },
  {
   "cell_type": "markdown",
   "id": "162faf57",
   "metadata": {},
   "source": [
    "# Join"
   ]
  },
  {
   "cell_type": "code",
   "execution_count": 68,
   "id": "9e49aab1",
   "metadata": {},
   "outputs": [],
   "source": [
    "rdd_emp = sc.parallelize([(1,'Williams'),(2,'Mark')])\n",
    "rdd_dept = sc.parallelize([(1,'HR'),(2,'IT')])"
   ]
  },
  {
   "cell_type": "code",
   "execution_count": 69,
   "id": "9b4d3d3b",
   "metadata": {},
   "outputs": [
    {
     "data": {
      "text/plain": [
       "[(1, ('Williams', 'HR')), (2, ('Mark', 'IT'))]"
      ]
     },
     "execution_count": 69,
     "metadata": {},
     "output_type": "execute_result"
    }
   ],
   "source": [
    "rdd_emp.join(rdd_dept).collect()"
   ]
  },
  {
   "cell_type": "markdown",
   "id": "ec2368a0",
   "metadata": {},
   "source": [
    "# Cartesian"
   ]
  },
  {
   "cell_type": "code",
   "execution_count": 70,
   "id": "a9fe6ec3",
   "metadata": {},
   "outputs": [],
   "source": [
    "rdd_orders = sc.parallelize([('01'),('02'),('03')])\n",
    "rdd_products = sc.parallelize([('Soap'),('Shampoo'),('Conditioner')])"
   ]
  },
  {
   "cell_type": "code",
   "execution_count": 71,
   "id": "6add8048",
   "metadata": {},
   "outputs": [
    {
     "data": {
      "text/plain": [
       "[('01', 'Soap'),\n",
       " ('01', 'Shampoo'),\n",
       " ('01', 'Conditioner'),\n",
       " ('02', 'Soap'),\n",
       " ('02', 'Shampoo'),\n",
       " ('02', 'Conditioner'),\n",
       " ('03', 'Soap'),\n",
       " ('03', 'Shampoo'),\n",
       " ('03', 'Conditioner')]"
      ]
     },
     "execution_count": 71,
     "metadata": {},
     "output_type": "execute_result"
    }
   ],
   "source": [
    "rdd_orders.cartesian(rdd_products).collect()"
   ]
  },
  {
   "cell_type": "markdown",
   "id": "0073ee0c",
   "metadata": {},
   "source": [
    "# Persist"
   ]
  },
  {
   "cell_type": "code",
   "execution_count": 72,
   "id": "d2c03f02",
   "metadata": {},
   "outputs": [
    {
     "data": {
      "text/plain": [
       "PythonRDD[62] at RDD at PythonRDD.scala:53"
      ]
     },
     "execution_count": 72,
     "metadata": {},
     "output_type": "execute_result"
    }
   ],
   "source": [
    "rdd_bme.persist(pyspark.StorageLevel.MEMORY_AND_DISK)"
   ]
  },
  {
   "cell_type": "code",
   "execution_count": 73,
   "id": "038bb6b0",
   "metadata": {},
   "outputs": [
    {
     "data": {
      "text/plain": [
       "701548"
      ]
     },
     "execution_count": 73,
     "metadata": {},
     "output_type": "execute_result"
    }
   ],
   "source": [
    "rdd_bme.count()"
   ]
  },
  {
   "cell_type": "code",
   "execution_count": 74,
   "id": "9d04e0a0",
   "metadata": {},
   "outputs": [
    {
     "data": {
      "text/plain": [
       "PythonRDD[62] at RDD at PythonRDD.scala:53"
      ]
     },
     "execution_count": 74,
     "metadata": {},
     "output_type": "execute_result"
    }
   ],
   "source": [
    "rdd_bme.unpersist()"
   ]
  },
  {
   "cell_type": "markdown",
   "id": "b5d80eb3",
   "metadata": {},
   "source": [
    "# reduceByKey\n",
    " -  find the average pressure per sensor per day\n",
    " - Remove the rows with columns less than 9\n",
    " - Remove the rows with pressure value not defined\n",
    " - Creating key-value pair with key as sensor_id and timestamp(Date part), and value as pressure and 1"
   ]
  },
  {
   "cell_type": "code",
   "execution_count": 75,
   "id": "eb7fa82f",
   "metadata": {},
   "outputs": [],
   "source": [
    "rdd_bme_mapped = rdd_bme_split.filter(lambda row:len(row)==9)\\\n",
    "                              .filter(lambda row:row[6]!='')\\\n",
    "                              .map(lambda row:((row[1],row[5][0:10]),(float(row[6]),1)))"
   ]
  },
  {
   "cell_type": "code",
   "execution_count": 76,
   "id": "41fa0ff5",
   "metadata": {},
   "outputs": [
    {
     "data": {
      "text/plain": [
       "[(('2266', '2017-07-01'), (95270.27, 1)),\n",
       " (('2292', '2017-07-01'), (94355.83, 1)),\n",
       " (('3096', '2017-07-01'), (95155.81, 1)),\n",
       " (('3428', '2017-07-01'), (94679.57, 1)),\n",
       " (('3472', '2017-07-01'), (94327.88, 1))]"
      ]
     },
     "execution_count": 76,
     "metadata": {},
     "output_type": "execute_result"
    }
   ],
   "source": [
    "rdd_bme_mapped.take(5)"
   ]
  },
  {
   "cell_type": "code",
   "execution_count": 77,
   "id": "a69a41fd",
   "metadata": {},
   "outputs": [
    {
     "data": {
      "text/plain": [
       "[(('2292', '2017-07-01'), (54339274.579999946, 577)),\n",
       " (('1952', '2017-07-01'), (51929139.60000006, 546)),\n",
       " (('3512', '2017-07-01'), (54215394.09000003, 572)),\n",
       " (('3438', '2017-07-01'), (53622333.59000005, 565)),\n",
       " (('3474', '2017-07-01'), (54400704.23999998, 576))]"
      ]
     },
     "execution_count": 77,
     "metadata": {},
     "output_type": "execute_result"
    }
   ],
   "source": [
    "rdd_bme_mapped.reduceByKey(lambda x,y:(x[0]+y[0],x[1]+y[1])).take(5)"
   ]
  },
  {
   "cell_type": "code",
   "execution_count": 78,
   "id": "692c920f",
   "metadata": {},
   "outputs": [
    {
     "data": {
      "text/plain": [
       "[(('2292', '2017-07-01'), 94175.51920277288),\n",
       " (('1952', '2017-07-01'), 95108.3142857144),\n",
       " (('3512', '2017-07-01'), 94782.15750000006),\n",
       " (('3438', '2017-07-01'), 94906.78511504433),\n",
       " (('3474', '2017-07-01'), 94445.6670833333)]"
      ]
     },
     "execution_count": 78,
     "metadata": {},
     "output_type": "execute_result"
    }
   ],
   "source": [
    "rdd_bme_mapped.reduceByKey(lambda x,y:(x[0]+y[0],x[1]+y[1]))\\\n",
    "              . map(lambda x:(x[0],x[1][0]/x[1][1])).take(5)"
   ]
  },
  {
   "cell_type": "markdown",
   "id": "7e96f2ef",
   "metadata": {},
   "source": [
    "# aggregateByKey\n",
    "- find the maximum temperature for every date\n",
    "- seqOp is defined which finds the max value in each partition for each key\n",
    "- combOp is defined which finds the max value across partition for each key\n",
    "- zeroVal is defined to store the initial value"
   ]
  },
  {
   "cell_type": "code",
   "execution_count": 79,
   "id": "faac9713",
   "metadata": {},
   "outputs": [],
   "source": [
    "rdd_bme_mapped_temp = rdd_bme_split.filter(lambda row:len(row)==9)\\\n",
    "                                   .filter(lambda row:row[7]!='')\\\n",
    "                                   .map(lambda row:((row[1],row[5][0:10]),float(row[7])))"
   ]
  },
  {
   "cell_type": "code",
   "execution_count": 80,
   "id": "2af5d81a",
   "metadata": {},
   "outputs": [
    {
     "data": {
      "text/plain": [
       "[(('2266', '2017-07-01'), 23.46), (('2292', '2017-07-01'), 23.06)]"
      ]
     },
     "execution_count": 80,
     "metadata": {},
     "output_type": "execute_result"
    }
   ],
   "source": [
    "rdd_bme_mapped_temp.take(2)"
   ]
  },
  {
   "cell_type": "code",
   "execution_count": 81,
   "id": "83455ed8",
   "metadata": {},
   "outputs": [],
   "source": [
    "zeroVal = 0\n",
    "\n",
    "def seqOp(acc,element):\n",
    "    if acc>element:\n",
    "        return acc\n",
    "    else:\n",
    "        return element\n",
    "\n",
    "def comOp(acc1,acc2):\n",
    "    if acc1>acc2:\n",
    "        return acc1\n",
    "    else:\n",
    "        return acc2\n"
   ]
  },
  {
   "cell_type": "code",
   "execution_count": 82,
   "id": "59913e9c",
   "metadata": {},
   "outputs": [
    {
     "data": {
      "text/plain": [
       "[(('2292', '2017-07-01'), 43.38),\n",
       " (('1952', '2017-07-01'), 45.6),\n",
       " (('3512', '2017-07-01'), 52.07),\n",
       " (('3438', '2017-07-01'), 48.96),\n",
       " (('3474', '2017-07-01'), 41.09)]"
      ]
     },
     "execution_count": 82,
     "metadata": {},
     "output_type": "execute_result"
    }
   ],
   "source": [
    "rdd_bme_mapped_temp.aggregateByKey(zeroVal,seqOp,comOp).take(5)"
   ]
  },
  {
   "cell_type": "markdown",
   "id": "d5a39142",
   "metadata": {},
   "source": [
    "# combineByKey\n",
    "- find the minimum humidity for every date\n",
    "- create combiner which is similar to zeroVal in aggregateByKey. It initializes value for each key\n",
    "- mergeValue does the local aggregations\n",
    "- mergeCombiner does the aggregations for the keys across partitions"
   ]
  },
  {
   "cell_type": "code",
   "execution_count": 83,
   "id": "3c3a2008",
   "metadata": {},
   "outputs": [],
   "source": [
    "rdd_bme_mapped_humidity = rdd_bme_split.filter(lambda row:len(row)==9)\\\n",
    "                                   .filter(lambda row:row[8]!='')\\\n",
    "                                   .map(lambda row:((row[1],row[5][0:10]),float(row[8])))"
   ]
  },
  {
   "cell_type": "code",
   "execution_count": 84,
   "id": "83040e10",
   "metadata": {},
   "outputs": [],
   "source": [
    "def createCombiner(humidity):\n",
    "    return humidity\n",
    "\n",
    "def mergeValue(acc,element):\n",
    "    if acc < element:\n",
    "        return acc\n",
    "    else:\n",
    "        return element\n",
    "\n",
    "def mergeCombiner(acc1,acc2):\n",
    "    if acc1<acc2:\n",
    "        return acc1\n",
    "    else:\n",
    "        return acc2\n",
    "        "
   ]
  },
  {
   "cell_type": "code",
   "execution_count": 85,
   "id": "1f24e68d",
   "metadata": {},
   "outputs": [
    {
     "data": {
      "text/plain": [
       "[(('2292', '2017-07-01'), 14.14),\n",
       " (('1952', '2017-07-01'), 15.93),\n",
       " (('3512', '2017-07-01'), 8.85),\n",
       " (('3438', '2017-07-01'), 8.76),\n",
       " (('3474', '2017-07-01'), 15.14)]"
      ]
     },
     "execution_count": 85,
     "metadata": {},
     "output_type": "execute_result"
    }
   ],
   "source": [
    "rdd_bme_mapped_humidity.combineByKey(createCombiner,mergeValue,mergeCombiner).take(5)"
   ]
  },
  {
   "cell_type": "markdown",
   "id": "0257a895",
   "metadata": {},
   "source": [
    "# Broadcast"
   ]
  },
  {
   "cell_type": "code",
   "execution_count": 86,
   "id": "3a0e79e2",
   "metadata": {},
   "outputs": [
    {
     "data": {
      "text/plain": [
       "[1, 2, 3, 4, 5]"
      ]
     },
     "execution_count": 86,
     "metadata": {},
     "output_type": "execute_result"
    }
   ],
   "source": [
    "b = sc.broadcast([1,2,3,4,5])\n",
    "b.value"
   ]
  },
  {
   "cell_type": "code",
   "execution_count": 90,
   "id": "ea528164",
   "metadata": {},
   "outputs": [
    {
     "data": {
      "text/plain": [
       "[1, 2, 3, 4, 5, 1, 2, 3, 4, 5]"
      ]
     },
     "execution_count": 90,
     "metadata": {},
     "output_type": "execute_result"
    }
   ],
   "source": [
    "sc.parallelize([0,0]).flatMap(lambda x:b.value).collect()"
   ]
  },
  {
   "cell_type": "code",
   "execution_count": 91,
   "id": "670ddb5b",
   "metadata": {},
   "outputs": [],
   "source": [
    "b.unpersist()"
   ]
  },
  {
   "cell_type": "markdown",
   "id": "0336e8a9",
   "metadata": {},
   "source": [
    "# Repartition"
   ]
  },
  {
   "cell_type": "code",
   "execution_count": 92,
   "id": "20b9f4e9",
   "metadata": {},
   "outputs": [
    {
     "data": {
      "text/plain": [
       "[[1], [2, 3], [4, 5], [6, 7]]"
      ]
     },
     "execution_count": 92,
     "metadata": {},
     "output_type": "execute_result"
    }
   ],
   "source": [
    "rdd = sc.parallelize([1,2,3,4,5,6,7],4)\n",
    "sorted(rdd.glom().collect())"
   ]
  },
  {
   "cell_type": "code",
   "execution_count": 93,
   "id": "8f841b16",
   "metadata": {},
   "outputs": [
    {
     "data": {
      "text/plain": [
       "[[1, 4, 5, 6, 7], [2, 3]]"
      ]
     },
     "execution_count": 93,
     "metadata": {},
     "output_type": "execute_result"
    }
   ],
   "source": [
    "rdd.repartition(2).glom().collect()"
   ]
  },
  {
   "cell_type": "code",
   "execution_count": 94,
   "id": "05d49dc4",
   "metadata": {},
   "outputs": [
    {
     "data": {
      "text/plain": [
       "2"
      ]
     },
     "execution_count": 94,
     "metadata": {},
     "output_type": "execute_result"
    }
   ],
   "source": [
    "len(rdd.repartition(2).glom().collect())"
   ]
  },
  {
   "cell_type": "code",
   "execution_count": 95,
   "id": "3ba203a4",
   "metadata": {},
   "outputs": [],
   "source": [
    "# rdd_bme2 = rdd_bme.repartition(1000)"
   ]
  },
  {
   "cell_type": "code",
   "execution_count": 96,
   "id": "fd39f51c",
   "metadata": {},
   "outputs": [],
   "source": [
    "# rdd_bme2.glom().collect()"
   ]
  },
  {
   "cell_type": "code",
   "execution_count": null,
   "id": "1704b32e",
   "metadata": {},
   "outputs": [],
   "source": []
  }
 ],
 "metadata": {
  "kernelspec": {
   "display_name": "Python 3 (ipykernel)",
   "language": "python",
   "name": "python3"
  },
  "language_info": {
   "codemirror_mode": {
    "name": "ipython",
    "version": 3
   },
   "file_extension": ".py",
   "mimetype": "text/x-python",
   "name": "python",
   "nbconvert_exporter": "python",
   "pygments_lexer": "ipython3",
   "version": "3.9.12"
  }
 },
 "nbformat": 4,
 "nbformat_minor": 5
}
