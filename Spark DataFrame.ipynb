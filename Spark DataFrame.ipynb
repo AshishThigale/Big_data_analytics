{
 "cells": [
  {
   "cell_type": "code",
   "execution_count": 1,
   "id": "2565f1a4",
   "metadata": {},
   "outputs": [],
   "source": [
    "import pyspark\n",
    "from pyspark.sql import SparkSession\n",
    "from itertools import islice\n",
    "from pyspark.sql import Row\n",
    "import pyspark.sql.functions as f"
   ]
  },
  {
   "cell_type": "code",
   "execution_count": 2,
   "id": "0f1fa0f7",
   "metadata": {},
   "outputs": [],
   "source": [
    "spark = SparkSession.builder.appName('pyspark_training')\\\n",
    "                            .master('local[10]').getOrCreate()"
   ]
  },
  {
   "cell_type": "markdown",
   "id": "f98babf5",
   "metadata": {},
   "source": [
    "# - Create Dataframe using list"
   ]
  },
  {
   "cell_type": "code",
   "execution_count": 3,
   "id": "ccc09d08",
   "metadata": {},
   "outputs": [],
   "source": [
    "row_list = [('John',26,'Pune'),('Jessica',25,'NY'),('Robert',24,'LA'),('Adam',28,'California')]"
   ]
  },
  {
   "cell_type": "code",
   "execution_count": 4,
   "id": "1bac2a16",
   "metadata": {},
   "outputs": [],
   "source": [
    "col_names = ['Name','Age','City']"
   ]
  },
  {
   "cell_type": "code",
   "execution_count": 5,
   "id": "7d668e42",
   "metadata": {},
   "outputs": [
    {
     "name": "stdout",
     "output_type": "stream",
     "text": [
      "+-------+---+----------+\n",
      "|   Name|Age|      City|\n",
      "+-------+---+----------+\n",
      "|   John| 26|      Pune|\n",
      "|Jessica| 25|        NY|\n",
      "| Robert| 24|        LA|\n",
      "|   Adam| 28|California|\n",
      "+-------+---+----------+\n",
      "\n"
     ]
    }
   ],
   "source": [
    "df_from_list = spark.createDataFrame(row_list,col_names)\n",
    "df_from_list.show()"
   ]
  },
  {
   "cell_type": "markdown",
   "id": "f2988cf3",
   "metadata": {},
   "source": [
    "# - Create DataFrame using dict - depricated"
   ]
  },
  {
   "cell_type": "code",
   "execution_count": 6,
   "id": "0fac369d",
   "metadata": {},
   "outputs": [],
   "source": [
    "row_dict = [{'Name':'John','Age':26},{'Name':'Jessica','Age':25},\n",
    "            {'Name':'Robert','Age':24},{'Name':'Adam','Age':28}]"
   ]
  },
  {
   "cell_type": "code",
   "execution_count": 7,
   "id": "b55afec6",
   "metadata": {},
   "outputs": [],
   "source": [
    "df_from_dict = spark.createDataFrame(row_dict)"
   ]
  },
  {
   "cell_type": "code",
   "execution_count": 8,
   "id": "0c8dbe3c",
   "metadata": {},
   "outputs": [
    {
     "name": "stdout",
     "output_type": "stream",
     "text": [
      "+---+-------+\n",
      "|Age|   Name|\n",
      "+---+-------+\n",
      "| 26|   John|\n",
      "| 25|Jessica|\n",
      "| 24| Robert|\n",
      "| 28|   Adam|\n",
      "+---+-------+\n",
      "\n"
     ]
    }
   ],
   "source": [
    "df_from_dict.show()"
   ]
  },
  {
   "cell_type": "markdown",
   "id": "011fca7a",
   "metadata": {},
   "source": [
    "# - Create DataFrame using RDD"
   ]
  },
  {
   "cell_type": "code",
   "execution_count": 9,
   "id": "045c4650",
   "metadata": {},
   "outputs": [],
   "source": [
    "Person = Row('Name','Age','City')"
   ]
  },
  {
   "cell_type": "code",
   "execution_count": 10,
   "id": "893a535d",
   "metadata": {},
   "outputs": [
    {
     "data": {
      "text/plain": [
       "<Row('Name', 'Age', 'City')>"
      ]
     },
     "execution_count": 10,
     "metadata": {},
     "output_type": "execute_result"
    }
   ],
   "source": [
    "Person"
   ]
  },
  {
   "cell_type": "code",
   "execution_count": 11,
   "id": "550696ac",
   "metadata": {},
   "outputs": [],
   "source": [
    "rdd = spark.sparkContext.parallelize(row_list)"
   ]
  },
  {
   "cell_type": "code",
   "execution_count": 12,
   "id": "a7480ed8",
   "metadata": {},
   "outputs": [
    {
     "data": {
      "text/plain": [
       "[('John', 26, 'Pune'),\n",
       " ('Jessica', 25, 'NY'),\n",
       " ('Robert', 24, 'LA'),\n",
       " ('Adam', 28, 'California')]"
      ]
     },
     "execution_count": 12,
     "metadata": {},
     "output_type": "execute_result"
    }
   ],
   "source": [
    "rdd.collect()"
   ]
  },
  {
   "cell_type": "code",
   "execution_count": 13,
   "id": "682d2f40",
   "metadata": {},
   "outputs": [],
   "source": [
    "person = rdd.map(lambda r:Person(*r))"
   ]
  },
  {
   "cell_type": "code",
   "execution_count": 14,
   "id": "e258269e",
   "metadata": {},
   "outputs": [
    {
     "data": {
      "text/plain": [
       "[Row(Name='John', Age=26, City='Pune'),\n",
       " Row(Name='Jessica', Age=25, City='NY'),\n",
       " Row(Name='Robert', Age=24, City='LA'),\n",
       " Row(Name='Adam', Age=28, City='California')]"
      ]
     },
     "execution_count": 14,
     "metadata": {},
     "output_type": "execute_result"
    }
   ],
   "source": [
    "person.collect()"
   ]
  },
  {
   "cell_type": "code",
   "execution_count": 15,
   "id": "32c80da9",
   "metadata": {},
   "outputs": [],
   "source": [
    "df_from_rdd = spark.createDataFrame(person)"
   ]
  },
  {
   "cell_type": "code",
   "execution_count": 16,
   "id": "74a2313c",
   "metadata": {},
   "outputs": [
    {
     "name": "stdout",
     "output_type": "stream",
     "text": [
      "+-------+---+----------+\n",
      "|   Name|Age|      City|\n",
      "+-------+---+----------+\n",
      "|   John| 26|      Pune|\n",
      "|Jessica| 25|        NY|\n",
      "| Robert| 24|        LA|\n",
      "|   Adam| 28|California|\n",
      "+-------+---+----------+\n",
      "\n"
     ]
    }
   ],
   "source": [
    "df_from_rdd.show()"
   ]
  },
  {
   "cell_type": "markdown",
   "id": "33171e53",
   "metadata": {},
   "source": [
    "# - Create DataFrame by RDD created by reading a textfile"
   ]
  },
  {
   "cell_type": "code",
   "execution_count": 17,
   "id": "48d019be",
   "metadata": {},
   "outputs": [],
   "source": [
    "rdd_us_cars = spark.sparkContext.textFile('USA_cars_datasets.csv')"
   ]
  },
  {
   "cell_type": "code",
   "execution_count": 18,
   "id": "dd7f2917",
   "metadata": {},
   "outputs": [
    {
     "data": {
      "text/plain": [
       "['row_id,price,brand,model,year,title_status,mileage,color,vin,lot,state,country,condition',\n",
       " '0,6300,toyota,cruiser,2008,clean vehicle,274117.0,black,  jtezu11f88k007763,159348797,new jersey, usa,10 days left']"
      ]
     },
     "execution_count": 18,
     "metadata": {},
     "output_type": "execute_result"
    }
   ],
   "source": [
    "rdd_us_cars.take(2)"
   ]
  },
  {
   "cell_type": "code",
   "execution_count": 19,
   "id": "e692d830",
   "metadata": {},
   "outputs": [],
   "source": [
    "header = rdd_us_cars.first()\n",
    "rdd_us_cars = rdd_us_cars.filter(lambda line:line!=header)"
   ]
  },
  {
   "cell_type": "code",
   "execution_count": 20,
   "id": "9c56460e",
   "metadata": {},
   "outputs": [
    {
     "data": {
      "text/plain": [
       "['0,6300,toyota,cruiser,2008,clean vehicle,274117.0,black,  jtezu11f88k007763,159348797,new jersey, usa,10 days left',\n",
       " '1,2899,ford,se,2011,clean vehicle,190552.0,silver,  2fmdk3gc4bbb02217,166951262,tennessee, usa,6 days left',\n",
       " '2,5350,dodge,mpv,2018,clean vehicle,39590.0,silver,  3c4pdcgg5jt346413,167655728,georgia, usa,2 days left',\n",
       " '3,25000,ford,door,2014,clean vehicle,64146.0,blue,  1ftfw1et4efc23745,167753855,virginia, usa,22 hours left',\n",
       " '4,27700,chevrolet,1500,2018,clean vehicle,6654.0,red,  3gcpcrec2jg473991,167763266,florida, usa,22 hours left']"
      ]
     },
     "execution_count": 20,
     "metadata": {},
     "output_type": "execute_result"
    }
   ],
   "source": [
    "rdd_us_cars.take(5)"
   ]
  },
  {
   "cell_type": "code",
   "execution_count": 21,
   "id": "36acaba2",
   "metadata": {},
   "outputs": [],
   "source": [
    "rdd_us_cars_mapped = rdd_us_cars.map(lambda r:r.split(','))"
   ]
  },
  {
   "cell_type": "code",
   "execution_count": 22,
   "id": "838fd1f7",
   "metadata": {},
   "outputs": [
    {
     "data": {
      "text/plain": [
       "[['0',\n",
       "  '6300',\n",
       "  'toyota',\n",
       "  'cruiser',\n",
       "  '2008',\n",
       "  'clean vehicle',\n",
       "  '274117.0',\n",
       "  'black',\n",
       "  '  jtezu11f88k007763',\n",
       "  '159348797',\n",
       "  'new jersey',\n",
       "  ' usa',\n",
       "  '10 days left']]"
      ]
     },
     "execution_count": 22,
     "metadata": {},
     "output_type": "execute_result"
    }
   ],
   "source": [
    "rdd_us_cars_mapped.take(1)"
   ]
  },
  {
   "cell_type": "code",
   "execution_count": 23,
   "id": "54925989",
   "metadata": {},
   "outputs": [],
   "source": [
    "cols = ['row_id','price','brand','model','year','title_status','mileage','color','vin','lot','state','country','condition']"
   ]
  },
  {
   "cell_type": "code",
   "execution_count": 24,
   "id": "a51063ec",
   "metadata": {},
   "outputs": [],
   "source": [
    "from pyspark.sql.types import StructField\n",
    "from pyspark.sql.types import StructType\n",
    "from pyspark.sql.types import StringType"
   ]
  },
  {
   "cell_type": "code",
   "execution_count": 25,
   "id": "e8579318",
   "metadata": {},
   "outputs": [],
   "source": [
    "schema = StructType([StructField(col,StringType(),True) for col in cols])"
   ]
  },
  {
   "cell_type": "code",
   "execution_count": 26,
   "id": "2e55cb75",
   "metadata": {},
   "outputs": [
    {
     "data": {
      "text/plain": [
       "StructType(List(StructField(row_id,StringType,true),StructField(price,StringType,true),StructField(brand,StringType,true),StructField(model,StringType,true),StructField(year,StringType,true),StructField(title_status,StringType,true),StructField(mileage,StringType,true),StructField(color,StringType,true),StructField(vin,StringType,true),StructField(lot,StringType,true),StructField(state,StringType,true),StructField(country,StringType,true),StructField(condition,StringType,true)))"
      ]
     },
     "execution_count": 26,
     "metadata": {},
     "output_type": "execute_result"
    }
   ],
   "source": [
    "schema"
   ]
  },
  {
   "cell_type": "code",
   "execution_count": 27,
   "id": "33bc00f7",
   "metadata": {},
   "outputs": [],
   "source": [
    "df_us_cars = spark.createDataFrame(rdd_us_cars_mapped,schema)"
   ]
  },
  {
   "cell_type": "code",
   "execution_count": 28,
   "id": "fbeabd76",
   "metadata": {},
   "outputs": [
    {
     "name": "stdout",
     "output_type": "stream",
     "text": [
      "+------+-----+---------+-------+----+-------------+--------+------+-------------------+---------+--------------+-------+-------------+\n",
      "|row_id|price|    brand|  model|year| title_status| mileage| color|                vin|      lot|         state|country|    condition|\n",
      "+------+-----+---------+-------+----+-------------+--------+------+-------------------+---------+--------------+-------+-------------+\n",
      "|     0| 6300|   toyota|cruiser|2008|clean vehicle|274117.0| black|  jtezu11f88k007763|159348797|    new jersey|    usa| 10 days left|\n",
      "|     1| 2899|     ford|     se|2011|clean vehicle|190552.0|silver|  2fmdk3gc4bbb02217|166951262|     tennessee|    usa|  6 days left|\n",
      "|     2| 5350|    dodge|    mpv|2018|clean vehicle| 39590.0|silver|  3c4pdcgg5jt346413|167655728|       georgia|    usa|  2 days left|\n",
      "|     3|25000|     ford|   door|2014|clean vehicle| 64146.0|  blue|  1ftfw1et4efc23745|167753855|      virginia|    usa|22 hours left|\n",
      "|     4|27700|chevrolet|   1500|2018|clean vehicle|  6654.0|   red|  3gcpcrec2jg473991|167763266|       florida|    usa|22 hours left|\n",
      "|     5| 5700|    dodge|    mpv|2018|clean vehicle| 45561.0| white|  2c4rdgeg9jr237989|167655771|         texas|    usa|  2 days left|\n",
      "|     6| 7300|chevrolet|     pk|2010|clean vehicle|149050.0| black|  1gcsksea1az121133|167753872|       georgia|    usa|22 hours left|\n",
      "|     7|13350|      gmc|   door|2017|clean vehicle| 23525.0|  gray|  1gks2gkc3hr326762|167692494|    california|    usa|20 hours left|\n",
      "|     8|14600|chevrolet| malibu|2018|clean vehicle|  9371.0|silver|  1g1zd5st5jf191860|167763267|       florida|    usa|22 hours left|\n",
      "|     9| 5250|     ford|    mpv|2017|clean vehicle| 63418.0| black|  2fmpk3j92hbc12542|167656121|         texas|    usa|  2 days left|\n",
      "|    10|10400|    dodge|  coupe|2009|clean vehicle|107856.0|orange|  2b3lj54t49h509675|167753874|       georgia|    usa|22 hours left|\n",
      "|    11|12920|      gmc|    mpv|2017|clean vehicle| 39650.0| white|  1gks2bkc6hr136280|167692496|    california|    usa|20 hours left|\n",
      "|    12|31900|chevrolet|   1500|2018|clean vehicle| 22909.0| black|  3gcukrec0jg176059|167763273|     tennessee|    usa|22 hours left|\n",
      "|    13| 5430| chrysler|  wagon|2017|clean vehicle|138650.0|  gray|  2c4rc1cg5hr616095|167656123|         texas|    usa|  2 days left|\n",
      "|    14|20700|     ford|   door|2013|clean vehicle|100757.0| black|  1ftfw1et7dfa47790|167753916|      virginia|    usa|22 hours left|\n",
      "|    15|12710|      gmc|   door|2017|clean vehicle| 25747.0| white|  1gks2gkc6hr328389|167692497|    california|    usa|20 hours left|\n",
      "|    16| 5200|      kia|  forte|2018|clean vehicle| 46194.0|  blue|  3kpfk4a77je198723|167801757|north carolina|    usa|  2 days left|\n",
      "|    17|16500|    buick| encore|2018|clean vehicle| 20002.0|   red|  kl4cj1sb6jb688844|167763275|     tennessee|    usa|22 hours left|\n",
      "|    18| 5210|     ford|    mpv|2017|clean vehicle| 35714.0| white|  2fmpk3j95hbb73607|167656124|         texas|    usa|  2 days left|\n",
      "|    19|38100|     ford|   door|2013|clean vehicle| 54380.0|  gray|  1ft8w3dt5deb68569|167753923|      virginia|    usa|22 hours left|\n",
      "+------+-----+---------+-------+----+-------------+--------+------+-------------------+---------+--------------+-------+-------------+\n",
      "only showing top 20 rows\n",
      "\n"
     ]
    }
   ],
   "source": [
    "df_us_cars.show()"
   ]
  },
  {
   "cell_type": "markdown",
   "id": "1a10e614",
   "metadata": {},
   "source": [
    "# - Read a file using a csv api"
   ]
  },
  {
   "cell_type": "code",
   "execution_count": 29,
   "id": "b3ffb05a",
   "metadata": {},
   "outputs": [],
   "source": [
    "df_us_cars = spark.read.option('header','true').csv('USA_cars_datasets.csv')"
   ]
  },
  {
   "cell_type": "code",
   "execution_count": 30,
   "id": "4cc124c2",
   "metadata": {},
   "outputs": [
    {
     "name": "stdout",
     "output_type": "stream",
     "text": [
      "+------+-----+---------+-------+----+-------------+--------+------+-------------------+---------+--------------+-------+-------------+\n",
      "|row_id|price|    brand|  model|year| title_status| mileage| color|                vin|      lot|         state|country|    condition|\n",
      "+------+-----+---------+-------+----+-------------+--------+------+-------------------+---------+--------------+-------+-------------+\n",
      "|     0| 6300|   toyota|cruiser|2008|clean vehicle|274117.0| black|  jtezu11f88k007763|159348797|    new jersey|    usa| 10 days left|\n",
      "|     1| 2899|     ford|     se|2011|clean vehicle|190552.0|silver|  2fmdk3gc4bbb02217|166951262|     tennessee|    usa|  6 days left|\n",
      "|     2| 5350|    dodge|    mpv|2018|clean vehicle| 39590.0|silver|  3c4pdcgg5jt346413|167655728|       georgia|    usa|  2 days left|\n",
      "|     3|25000|     ford|   door|2014|clean vehicle| 64146.0|  blue|  1ftfw1et4efc23745|167753855|      virginia|    usa|22 hours left|\n",
      "|     4|27700|chevrolet|   1500|2018|clean vehicle|  6654.0|   red|  3gcpcrec2jg473991|167763266|       florida|    usa|22 hours left|\n",
      "|     5| 5700|    dodge|    mpv|2018|clean vehicle| 45561.0| white|  2c4rdgeg9jr237989|167655771|         texas|    usa|  2 days left|\n",
      "|     6| 7300|chevrolet|     pk|2010|clean vehicle|149050.0| black|  1gcsksea1az121133|167753872|       georgia|    usa|22 hours left|\n",
      "|     7|13350|      gmc|   door|2017|clean vehicle| 23525.0|  gray|  1gks2gkc3hr326762|167692494|    california|    usa|20 hours left|\n",
      "|     8|14600|chevrolet| malibu|2018|clean vehicle|  9371.0|silver|  1g1zd5st5jf191860|167763267|       florida|    usa|22 hours left|\n",
      "|     9| 5250|     ford|    mpv|2017|clean vehicle| 63418.0| black|  2fmpk3j92hbc12542|167656121|         texas|    usa|  2 days left|\n",
      "|    10|10400|    dodge|  coupe|2009|clean vehicle|107856.0|orange|  2b3lj54t49h509675|167753874|       georgia|    usa|22 hours left|\n",
      "|    11|12920|      gmc|    mpv|2017|clean vehicle| 39650.0| white|  1gks2bkc6hr136280|167692496|    california|    usa|20 hours left|\n",
      "|    12|31900|chevrolet|   1500|2018|clean vehicle| 22909.0| black|  3gcukrec0jg176059|167763273|     tennessee|    usa|22 hours left|\n",
      "|    13| 5430| chrysler|  wagon|2017|clean vehicle|138650.0|  gray|  2c4rc1cg5hr616095|167656123|         texas|    usa|  2 days left|\n",
      "|    14|20700|     ford|   door|2013|clean vehicle|100757.0| black|  1ftfw1et7dfa47790|167753916|      virginia|    usa|22 hours left|\n",
      "|    15|12710|      gmc|   door|2017|clean vehicle| 25747.0| white|  1gks2gkc6hr328389|167692497|    california|    usa|20 hours left|\n",
      "|    16| 5200|      kia|  forte|2018|clean vehicle| 46194.0|  blue|  3kpfk4a77je198723|167801757|north carolina|    usa|  2 days left|\n",
      "|    17|16500|    buick| encore|2018|clean vehicle| 20002.0|   red|  kl4cj1sb6jb688844|167763275|     tennessee|    usa|22 hours left|\n",
      "|    18| 5210|     ford|    mpv|2017|clean vehicle| 35714.0| white|  2fmpk3j95hbb73607|167656124|         texas|    usa|  2 days left|\n",
      "|    19|38100|     ford|   door|2013|clean vehicle| 54380.0|  gray|  1ft8w3dt5deb68569|167753923|      virginia|    usa|22 hours left|\n",
      "+------+-----+---------+-------+----+-------------+--------+------+-------------------+---------+--------------+-------+-------------+\n",
      "only showing top 20 rows\n",
      "\n"
     ]
    }
   ],
   "source": [
    "df_us_cars.show()"
   ]
  },
  {
   "cell_type": "code",
   "execution_count": 31,
   "id": "08174a82",
   "metadata": {},
   "outputs": [
    {
     "name": "stdout",
     "output_type": "stream",
     "text": [
      "root\n",
      " |-- row_id: string (nullable = true)\n",
      " |-- price: string (nullable = true)\n",
      " |-- brand: string (nullable = true)\n",
      " |-- model: string (nullable = true)\n",
      " |-- year: string (nullable = true)\n",
      " |-- title_status: string (nullable = true)\n",
      " |-- mileage: string (nullable = true)\n",
      " |-- color: string (nullable = true)\n",
      " |-- vin: string (nullable = true)\n",
      " |-- lot: string (nullable = true)\n",
      " |-- state: string (nullable = true)\n",
      " |-- country: string (nullable = true)\n",
      " |-- condition: string (nullable = true)\n",
      "\n"
     ]
    }
   ],
   "source": [
    "df_us_cars.printSchema()"
   ]
  },
  {
   "cell_type": "markdown",
   "id": "be3ba800",
   "metadata": {},
   "source": [
    "# - Get the dataframe schema"
   ]
  },
  {
   "cell_type": "code",
   "execution_count": 32,
   "id": "bfedb95f",
   "metadata": {},
   "outputs": [],
   "source": [
    "schema1 = df_us_cars.schema"
   ]
  },
  {
   "cell_type": "code",
   "execution_count": 33,
   "id": "f3d7d3a1",
   "metadata": {},
   "outputs": [
    {
     "data": {
      "text/plain": [
       "StructType(List(StructField(row_id,StringType,true),StructField(price,StringType,true),StructField(brand,StringType,true),StructField(model,StringType,true),StructField(year,StringType,true),StructField(title_status,StringType,true),StructField(mileage,StringType,true),StructField(color,StringType,true),StructField(vin,StringType,true),StructField(lot,StringType,true),StructField(state,StringType,true),StructField(country,StringType,true),StructField(condition,StringType,true)))"
      ]
     },
     "execution_count": 33,
     "metadata": {},
     "output_type": "execute_result"
    }
   ],
   "source": [
    "schema1"
   ]
  },
  {
   "cell_type": "markdown",
   "id": "38f30731",
   "metadata": {},
   "source": [
    "# - Get the dataframe columns"
   ]
  },
  {
   "cell_type": "code",
   "execution_count": 34,
   "id": "d3ddcbf6",
   "metadata": {},
   "outputs": [],
   "source": [
    "cars_cols = df_us_cars.columns"
   ]
  },
  {
   "cell_type": "code",
   "execution_count": 35,
   "id": "6608fa20",
   "metadata": {},
   "outputs": [
    {
     "data": {
      "text/plain": [
       "['row_id',\n",
       " 'price',\n",
       " 'brand',\n",
       " 'model',\n",
       " 'year',\n",
       " 'title_status',\n",
       " 'mileage',\n",
       " 'color',\n",
       " 'vin',\n",
       " 'lot',\n",
       " 'state',\n",
       " 'country',\n",
       " 'condition']"
      ]
     },
     "execution_count": 35,
     "metadata": {},
     "output_type": "execute_result"
    }
   ],
   "source": [
    "cars_cols"
   ]
  },
  {
   "cell_type": "markdown",
   "id": "e33bd74d",
   "metadata": {},
   "source": [
    "# first row"
   ]
  },
  {
   "cell_type": "code",
   "execution_count": 36,
   "id": "341382fd",
   "metadata": {},
   "outputs": [
    {
     "data": {
      "text/plain": [
       "Row(row_id='0', price='6300', brand='toyota', model='cruiser', year='2008', title_status='clean vehicle', mileage='274117.0', color='black', vin='  jtezu11f88k007763', lot='159348797', state='new jersey', country=' usa', condition='10 days left')"
      ]
     },
     "execution_count": 36,
     "metadata": {},
     "output_type": "execute_result"
    }
   ],
   "source": [
    "df_us_cars.first()"
   ]
  },
  {
   "cell_type": "markdown",
   "id": "e8526177",
   "metadata": {},
   "source": [
    "# get n rows"
   ]
  },
  {
   "cell_type": "code",
   "execution_count": 37,
   "id": "ef39bda2",
   "metadata": {},
   "outputs": [
    {
     "data": {
      "text/plain": [
       "[Row(row_id='0', price='6300', brand='toyota', model='cruiser', year='2008', title_status='clean vehicle', mileage='274117.0', color='black', vin='  jtezu11f88k007763', lot='159348797', state='new jersey', country=' usa', condition='10 days left'),\n",
       " Row(row_id='1', price='2899', brand='ford', model='se', year='2011', title_status='clean vehicle', mileage='190552.0', color='silver', vin='  2fmdk3gc4bbb02217', lot='166951262', state='tennessee', country=' usa', condition='6 days left'),\n",
       " Row(row_id='2', price='5350', brand='dodge', model='mpv', year='2018', title_status='clean vehicle', mileage='39590.0', color='silver', vin='  3c4pdcgg5jt346413', lot='167655728', state='georgia', country=' usa', condition='2 days left'),\n",
       " Row(row_id='3', price='25000', brand='ford', model='door', year='2014', title_status='clean vehicle', mileage='64146.0', color='blue', vin='  1ftfw1et4efc23745', lot='167753855', state='virginia', country=' usa', condition='22 hours left'),\n",
       " Row(row_id='4', price='27700', brand='chevrolet', model='1500', year='2018', title_status='clean vehicle', mileage='6654.0', color='red', vin='  3gcpcrec2jg473991', lot='167763266', state='florida', country=' usa', condition='22 hours left'),\n",
       " Row(row_id='5', price='5700', brand='dodge', model='mpv', year='2018', title_status='clean vehicle', mileage='45561.0', color='white', vin='  2c4rdgeg9jr237989', lot='167655771', state='texas', country=' usa', condition='2 days left'),\n",
       " Row(row_id='6', price='7300', brand='chevrolet', model='pk', year='2010', title_status='clean vehicle', mileage='149050.0', color='black', vin='  1gcsksea1az121133', lot='167753872', state='georgia', country=' usa', condition='22 hours left'),\n",
       " Row(row_id='7', price='13350', brand='gmc', model='door', year='2017', title_status='clean vehicle', mileage='23525.0', color='gray', vin='  1gks2gkc3hr326762', lot='167692494', state='california', country=' usa', condition='20 hours left'),\n",
       " Row(row_id='8', price='14600', brand='chevrolet', model='malibu', year='2018', title_status='clean vehicle', mileage='9371.0', color='silver', vin='  1g1zd5st5jf191860', lot='167763267', state='florida', country=' usa', condition='22 hours left'),\n",
       " Row(row_id='9', price='5250', brand='ford', model='mpv', year='2017', title_status='clean vehicle', mileage='63418.0', color='black', vin='  2fmpk3j92hbc12542', lot='167656121', state='texas', country=' usa', condition='2 days left')]"
      ]
     },
     "execution_count": 37,
     "metadata": {},
     "output_type": "execute_result"
    }
   ],
   "source": [
    "df_us_cars.take(10)"
   ]
  },
  {
   "cell_type": "code",
   "execution_count": 38,
   "id": "c4e756c1",
   "metadata": {},
   "outputs": [
    {
     "data": {
      "text/plain": [
       "DataFrame[row_id: string, price: string, brand: string, model: string, year: string, title_status: string, mileage: string, color: string, vin: string, lot: string, state: string, country: string, condition: string]"
      ]
     },
     "execution_count": 38,
     "metadata": {},
     "output_type": "execute_result"
    }
   ],
   "source": [
    "df_us_cars"
   ]
  },
  {
   "cell_type": "markdown",
   "id": "9bd6ad76",
   "metadata": {},
   "source": [
    "# Preparing the Loan Dataset"
   ]
  },
  {
   "cell_type": "code",
   "execution_count": 39,
   "id": "5914ae43",
   "metadata": {},
   "outputs": [],
   "source": [
    "df_loans = spark.read.parquet('loan_data.parquet')"
   ]
  },
  {
   "cell_type": "code",
   "execution_count": 40,
   "id": "9cc880a2",
   "metadata": {},
   "outputs": [
    {
     "data": {
      "text/plain": [
       "['loan_id',\n",
       " 'loan_name',\n",
       " 'original_language',\n",
       " 'description',\n",
       " 'description_translated',\n",
       " 'funded_amount',\n",
       " 'loan_amount',\n",
       " 'status',\n",
       " 'activity_name',\n",
       " 'sector_name',\n",
       " 'loan_use',\n",
       " 'country_code',\n",
       " 'country_name',\n",
       " 'town_name',\n",
       " 'currency_policy',\n",
       " 'currency_exchange_coverage_rate',\n",
       " 'currency',\n",
       " 'partner_id',\n",
       " 'posted_time',\n",
       " 'planned_expiration_time',\n",
       " 'disburse_time',\n",
       " 'raised_time',\n",
       " 'lender_term',\n",
       " 'num_lenders_total',\n",
       " 'num_journal_entries',\n",
       " 'num_bulk_entries',\n",
       " 'tags',\n",
       " 'borrower_genders',\n",
       " 'borrower_pictured',\n",
       " 'repayment_interval',\n",
       " 'distribution_model']"
      ]
     },
     "execution_count": 40,
     "metadata": {},
     "output_type": "execute_result"
    }
   ],
   "source": [
    "df_loans.columns"
   ]
  },
  {
   "cell_type": "code",
   "execution_count": 41,
   "id": "9c890a88",
   "metadata": {},
   "outputs": [
    {
     "name": "stdout",
     "output_type": "stream",
     "text": [
      "root\n",
      " |-- loan_id: string (nullable = true)\n",
      " |-- loan_name: string (nullable = true)\n",
      " |-- original_language: string (nullable = true)\n",
      " |-- description: string (nullable = true)\n",
      " |-- description_translated: string (nullable = true)\n",
      " |-- funded_amount: double (nullable = true)\n",
      " |-- loan_amount: double (nullable = true)\n",
      " |-- status: string (nullable = true)\n",
      " |-- activity_name: string (nullable = true)\n",
      " |-- sector_name: string (nullable = true)\n",
      " |-- loan_use: string (nullable = true)\n",
      " |-- country_code: string (nullable = true)\n",
      " |-- country_name: string (nullable = true)\n",
      " |-- town_name: string (nullable = true)\n",
      " |-- currency_policy: string (nullable = true)\n",
      " |-- currency_exchange_coverage_rate: double (nullable = true)\n",
      " |-- currency: string (nullable = true)\n",
      " |-- partner_id: double (nullable = true)\n",
      " |-- posted_time: string (nullable = true)\n",
      " |-- planned_expiration_time: string (nullable = true)\n",
      " |-- disburse_time: string (nullable = true)\n",
      " |-- raised_time: string (nullable = true)\n",
      " |-- lender_term: double (nullable = true)\n",
      " |-- num_lenders_total: integer (nullable = true)\n",
      " |-- num_journal_entries: integer (nullable = true)\n",
      " |-- num_bulk_entries: integer (nullable = true)\n",
      " |-- tags: string (nullable = true)\n",
      " |-- borrower_genders: string (nullable = true)\n",
      " |-- borrower_pictured: string (nullable = true)\n",
      " |-- repayment_interval: string (nullable = true)\n",
      " |-- distribution_model: string (nullable = true)\n",
      "\n"
     ]
    }
   ],
   "source": [
    "df_loans.printSchema()"
   ]
  },
  {
   "cell_type": "code",
   "execution_count": 42,
   "id": "434e4774",
   "metadata": {},
   "outputs": [
    {
     "name": "stdout",
     "output_type": "stream",
     "text": [
      "+-------+----------------+-----------------+--------------------------------------------------------------------------------------------------------------------------------------------------------------------------------------------------------------------------------------------------------------------------------------------------------------------------------------------------------------------------------------------------------------------------------------------------------------------------------------------------------------------------------------------------------------------------------------------------------------------------------------------------------------------------------------------------------------------------------------------------------------------------------------------------------------------------------------------------------------------------------------------------------------------------------------------------------------------------------------------------------------------------------------------------------------------------------------------------------------------------------------------------------------------------------+--------------------------------------------------------------------------------------------------------------------------------------------------------------------------------------------------------------------------------------------------------------------------------------------------------------------------------------------------------------------------------------------------------------------------------------------------------------------------------------------------------------------------------------------------------------------------------------------------------------------------------------------------------------------------------------------------------------------------------------------------------------------------------------------------------------------------------------------------------------------------------------------------------------------------------------------------------------------------------------------------------------------------------------------------------------------------------------------------------------------------------------------------------------------------------+-------------+-----------+------+---------------------+-----------+--------------------------------------------------------------------------------------------------------------+------------+------------+------------------------------------------+---------------+-------------------------------+--------+----------+-----------------------------+-----------------------------+-----------------------------+-----------------------------+-----------+-----------------+-------------------+----------------+---------------------------------------------------------+----------------+-----------------+------------------+------------------+\n",
      "|loan_id|loan_name       |original_language|description                                                                                                                                                                                                                                                                                                                                                                                                                                                                                                                                                                                                                                                                                                                                                                                                                                                                                                                                                                                                                                                                                                                                                                     |description_translated                                                                                                                                                                                                                                                                                                                                                                                                                                                                                                                                                                                                                                                                                                                                                                                                                                                                                                                                                                                                                                                                                                                                                          |funded_amount|loan_amount|status|activity_name        |sector_name|loan_use                                                                                                      |country_code|country_name|town_name                                 |currency_policy|currency_exchange_coverage_rate|currency|partner_id|posted_time                  |planned_expiration_time      |disburse_time                |raised_time                  |lender_term|num_lenders_total|num_journal_entries|num_bulk_entries|tags                                                     |borrower_genders|borrower_pictured|repayment_interval|distribution_model|\n",
      "+-------+----------------+-----------------+--------------------------------------------------------------------------------------------------------------------------------------------------------------------------------------------------------------------------------------------------------------------------------------------------------------------------------------------------------------------------------------------------------------------------------------------------------------------------------------------------------------------------------------------------------------------------------------------------------------------------------------------------------------------------------------------------------------------------------------------------------------------------------------------------------------------------------------------------------------------------------------------------------------------------------------------------------------------------------------------------------------------------------------------------------------------------------------------------------------------------------------------------------------------------------+--------------------------------------------------------------------------------------------------------------------------------------------------------------------------------------------------------------------------------------------------------------------------------------------------------------------------------------------------------------------------------------------------------------------------------------------------------------------------------------------------------------------------------------------------------------------------------------------------------------------------------------------------------------------------------------------------------------------------------------------------------------------------------------------------------------------------------------------------------------------------------------------------------------------------------------------------------------------------------------------------------------------------------------------------------------------------------------------------------------------------------------------------------------------------------+-------------+-----------+------+---------------------+-----------+--------------------------------------------------------------------------------------------------------------+------------+------------+------------------------------------------+---------------+-------------------------------+--------+----------+-----------------------------+-----------------------------+-----------------------------+-----------------------------+-----------+-----------------+-------------------+----------------+---------------------------------------------------------+----------------+-----------------+------------------+------------------+\n",
      "|1057058|\\tLucy          |English          |Lucy is a married woman and has been blessed with five children, all of whom attend school. Together with her husband, they live in their own house that has neither electricity nor piped water. Her monthly expenses are school fees.<br /><br />Lucy has operated a fish selling business for over four years, selling from home to restaurant operators, and passersby. She faces a major challenge of seasonality and perishability leading to losses.<br /><br />With the KES 30,000, Lucy wants to purchase bundles of fish for resale. She dreams of expanding her business and establishing another business in the near future.                                                                                                                                                                                                                                                                                                                                                                                                                                                                                                                                       |Lucy is a married woman and has been blessed with five children, all of whom attend school. Together with her husband, they live in their own house that has neither electricity nor piped water. Her monthly expenses are school fees.<br /><br />Lucy has operated a fish selling business for over four years, selling from home to restaurant operators, and passersby. She faces a major challenge of seasonality and perishability leading to losses.<br /><br />With the KES 30,000, Lucy wants to purchase bundles of fish for resale. She dreams of expanding her business and establishing another business in the near future.                                                                                                                                                                                                                                                                                                                                                                                                                                                                                                                                       |300.0        |300.0      |funded|Fish Selling         |Food       |to purchase bundles of fish for resale.                                                                       |KE          |Kenya       |Kisauni                                   |shared         |0.1                            |KES     |164.0     |2016-04-20 07:05:43.000 +0000|2016-05-24 15:10:07.000 +0000|2016-04-18 07:00:00.000 +0000|2016-04-26 05:00:58.000 +0000|14.0       |11               |1                  |1               |#Fabrics, #Parent, #Woman-Owned Business, #Schooling     |female          |true             |monthly           |field_partner     |\n",
      "|509472 |Madosho         |English          |Madosho is a very responsible man who values his family's well-being very much. He does not want his family members to lack basic needs. Madosho is still operating his retail shop, which is giving him commendable results. He wants to take advantage of the forthcoming festive season where sales normally increase. For this reason, he is asking for another loan to purchase bales of flour, sacks of rice and beans, and instant products. Since the last loan, his business has been gradually growing.                                                                                                                                                                                                                                                                                                                                                                                                                                                                                                                                                                                                                                                               |null                                                                                                                                                                                                                                                                                                                                                                                                                                                                                                                                                                                                                                                                                                                                                                                                                                                                                                                                                                                                                                                                                                                                                                            |300.0        |300.0      |funded|General Store        |Retail     |to purchase bales of flour, sacks of rice and beans, and instant products.                                    |KE          |Kenya       |Tiribe                                    |shared         |0.1                            |KES     |164.0     |2012-12-19 09:19:01.000 +0000|2013-01-19 06:10:02.000 +0000|2012-12-14 08:00:00.000 +0000|2012-12-20 17:13:36.000 +0000|14.0       |6                |3                  |2               |null                                                     |male            |true             |monthly           |field_partner     |\n",
      "|344324 |Marcelina       |English          |Marcelina is married with 2 child. She is a very hardworking entrepreneur. She is 49 years old and has 1 child who is in school.\\n\\nShe has a motorcycle repair shop business in the Philippines. She has been in this business for 4 years. She requested a PHP 20,000 loan through NWTF to buy additional tools and equipment for her repair shop.\\n\\nIn the future, Marcelina would like to save enough money so she could send her child to college.\\n                                                                                                                                                                                                                                                                                                                                                                                                                                                                                                                                                                                                                                                                                                                      |null                                                                                                                                                                                                                                                                                                                                                                                                                                                                                                                                                                                                                                                                                                                                                                                                                                                                                                                                                                                                                                                                                                                                                                            |475.0        |475.0      |funded|Motorcycle Repair    |Services   |to buy additional tools and equipment for her repair shop.                                                    |PH          |Philippines |Toledo, Cebu                              |shared         |0.2                            |PHP     |145.0     |2011-10-10 03:20:31.000 +0000|null                         |2011-09-13 07:00:00.000 +0000|2011-11-01 21:34:58.000 +0000|13.0       |13               |2                  |1               |null                                                     |female          |true             |monthly           |field_partner     |\n",
      "|768521 |Fadzisai        |English          |Fadzisai is a 30-year-old businesswoman from the Kwekwe District of Zimbabwe. She supports her daughter by running a business where she sells fried chips to customers. Fadzisai also volunteers as a Camfed Learner Guide at the local secondary school in her community; she teaches young students beneficial life skills. \\r\\n\\r\\nFadzisai is requesting a loan from Kiva so that she can buy a large fryer. A larger fryer will make it easier to make more chips and Fadzisai will be able to meet the demand of her customers. More profits will help Fadzisai meet the financial needs of her family.                                                                                                                                                                                                                                                                                                                                                                                                                                                                                                                                                                   |Fadzisai is a 30-year-old businesswoman from the Kwekwe District of Zimbabwe. She supports her daughter by running a business where she sells fried chips to customers. Fadzisai also volunteers as a Camfed Learner Guide at the local secondary school in her community; she teaches young students beneficial life skills. \\r\\n\\r\\nFadzisai is requesting a loan from Kiva so that she can buy a large fryer. A larger fryer will make it easier to make more chips and Fadzisai will be able to meet the demand of her customers. More profits will help Fadzisai meet the financial needs of her family.                                                                                                                                                                                                                                                                                                                                                                                                                                                                                                                                                                   |500.0        |500.0      |funded|Food Production/Sales|Food       |To purchase a larger fryer to produce more chips.                                                             |ZW          |Zimbabwe    |Kwekwe                                    |shared         |0.1                            |USD     |305.0     |2014-09-15 09:27:20.000 +0000|2014-10-16 07:30:03.000 +0000|2014-09-20 07:00:00.000 +0000|2014-09-17 14:34:06.000 +0000|8.0        |20               |2                  |1               |user_favorite                                            |female          |true             |monthly           |field_partner     |\n",
      "|702112 |Oretha          |English          |Oretha lives in Kakata town, Liberia. She is 38 years old, married to a former security guard, and has five children aged between 13 and 22 years old, who are in school and live at home. She was unable to attend school, but has been keeping herself busy over the past five years selling slippers, blouses and other goods in the local market. She started this business with a little money from her mother. Oretha said that having only limited stock is the only challenge she faces now. She likes her business because it is affordable, and she learned this way of selling from her friends. She said she is proud of her business because it is the only way that she and her family are surviving. With the loan, Oretha is going to buy more stock for her stall. Her plan is to increase her sales even more.                                                                                                                                                                                                                                                                                                                                                |Oretha lives in Kakata town, Liberia. She is 38 years old, married to a former security guard, and has five children aged between 13 and 22 years old, who are in school and live at home. She was unable to attend school, but has been keeping herself busy over the past five years selling slippers, blouses and other goods in the local market. She started this business with a little money from her mother. Oretha said that having only limited stock is the only challenge she faces now. She likes her business because it is affordable, and she learned this way of selling from her friends. She said she is proud of her business because it is the only way that she and her family are surviving. With the loan, Oretha is going to buy more stock for her stall. Her plan is to increase her sales even more.                                                                                                                                                                                                                                                                                                                                                |400.0        |400.0      |funded|Retail               |Retail     |to buy more slippers and blouses for her market stall.                                                        |LR          |Liberia     |Kakata                                    |shared         |0.1                            |LRD     |182.0     |2014-04-24 17:07:58.000 +0000|2014-05-27 14:00:08.000 +0000|2014-04-10 07:00:00.000 +0000|2014-04-30 11:58:54.000 +0000|11.0       |11               |1                  |1               |null                                                     |female          |true             |monthly           |field_partner     |\n",
      "|1951531|Gulfer          |English          |Gulfer is divorced and a mother of three. She knits baby blankets, sweaters, etc. She sells them to her neighbors and friends and also on stands. This way she is making a contribution to the family budget and supporting her children with their school needs. She is trying hard to stand on her own two feet. With the help of her third loan from Maya, she bought bulk threads and other materials. She wants to increase her sales.<br /><br />Translated from Turkish by Maya staff<br /><br />Gülfer Hanım bekâr, üç çocuk annesidir.  El örgüsü örüp satıyor.Bebek battaniyesi ,bebek hırka  çeşitleri gibi.. Yakın çevresine, komşularına örgülerini satıyor. Sipariş alarak istenilen örgü modellerinden örerek müşteri memnuniyetini sağlıyor.  Yaşadığı şehirde stantlara çıkarak örgülerini satışa sunuyor. Satışlardan elde ettiği ek gelirle ekonomisini güçlendiriyor. Eğitim hayatı devam eden çocuklarına destek oluyor. Eşinden ayrıldıktan sonra kendi ayakları üzerinde duramaya çaba gösteriyor. Mayadan üçüncü kredisini kullanıyor. Kredisi ile toptan ip ve diğer örgü malzemelerini aldı. Yeni örgü çeşitleri örerek satışlarını arttırmak istiyor.|Gulfer is divorced and a mother of three. She knits baby blankets, sweaters, etc. She sells them to her neighbors and friends and also on stands. This way she is making a contribution to the family budget and supporting her children with their school needs. She is trying hard to stand on her own two feet. With the help of her third loan from Maya, she bought bulk threads and other materials. She wants to increase her sales.<br /><br />Translated from Turkish by Maya staff<br /><br />Gülfer Hanım bekâr, üç çocuk annesidir.  El örgüsü örüp satıyor.Bebek battaniyesi ,bebek hırka  çeşitleri gibi.. Yakın çevresine, komşularına örgülerini satıyor. Sipariş alarak istenilen örgü modellerinden örerek müşteri memnuniyetini sağlıyor.  Yaşadığı şehirde stantlara çıkarak örgülerini satışa sunuyor. Satışlardan elde ettiği ek gelirle ekonomisini güçlendiriyor. Eğitim hayatı devam eden çocuklarına destek oluyor. Eşinden ayrıldıktan sonra kendi ayakları üzerinde duramaya çaba gösteriyor. Mayadan üçüncü kredisini kullanıyor. Kredisi ile toptan ip ve diğer örgü malzemelerini aldı. Yeni örgü çeşitleri örerek satışlarını arttırmak istiyor.|225.0        |225.0      |funded|Knitting             |Arts       |to buy bulk thread and other materials.                                                                       |TR          |Turkey      |null                                      |shared         |0.1                            |TRY     |198.0     |2020-03-23 12:45:37.000 +0000|2020-04-24 23:10:23.000 +0000|2020-03-04 08:00:00.000 +0000|2020-03-26 04:35:43.000 +0000|7.0        |8                |1                  |1               |user_favorite                                            |female          |true             |monthly           |field_partner     |\n",
      "|497810 |Kimleang's Group|English          |Kimleang, 33, is married and has three dependent children, all of whom are still in school. Her family lives in a house with a thatched roof, located in Battambang province’s Moung Russey district. The main sources of her family’s income are rice farming, selling fish in her village, and her husband's work of catching fish. She has been running her business for ten years, earning about KHR 18,000 per day, and she is able to save about KHR 8,000 each day. \\r\\n\\r\\nKimleang’s group consists of two members, who have each been with VisionFund for one loan cycle. Kimleang successfully paid back the previous loan, which helped her to better support her family's living conditions. Now she is leading her group to ask for a new loan. Kimleang, who is leader, will use her portion of the loan to buy fertilizer and seeds for her farming business. She hopes to increase her crop yield, to earn more income and make a better living, and also to keep her children in school. \\r\\n                                                                                                                                                                 |null                                                                                                                                                                                                                                                                                                                                                                                                                                                                                                                                                                                                                                                                                                                                                                                                                                                                                                                                                                                                                                                                                                                                                                            |625.0        |625.0      |funded|Farming              |Agriculture|To buy fertilizer and seeds for her farming business                                                          |KH          |Cambodia    |Battambang province, Moung Russey district|shared         |0.1                            |KHR     |204.0     |2012-11-19 08:42:57.000 +0000|2012-12-31 08:16:40.000 +0000|2012-10-20 07:00:00.000 +0000|2012-12-04 19:36:16.000 +0000|14.0       |24               |2                  |1               |null                                                     |female, female  |true, true       |irregular         |field_partner     |\n",
      "|1560103|CRISTIAN        |Spanish          |Cristian es un joven de 22 años de edad el cual se dedica a la venta de alimentos.\\nReside en el municipio de Medellín, inició su negocio pro gusto y vocación al trabajo independiente, pues sueña con tener una vivienda propia y una vida de mejor calidad.\\nÉl se encuentra solicitando un préstamo para la compra de un carro de comidas rápidas, carpa, utensilios de cocina, inventario y sillas para fortalecer las ventas de su negocio.\\n\\n\\nIf you want to know more about the entrepreneurs and the loans from Interactuar, you can join the Lending Team called: “Friends of Interactuar Colombia”: http://www.kiva.org/team/interactuar_colombia\\n\\n\\n\\n                                                                                                                                                                                                                                                                                                                                                                                                                                                                                                          |Cristian is a 22-year-old young man who works selling foods. He resides in the municipality of Medellín. He started his business for pleasure and vocation to work independently since he dreams of having his own home and a better quality of life.<br /><br />He is requesting a loan for the purchase of a fast food cart, a tent, cookware, inventory, and chairs to strengthen the sales of his business.<br />\\t\\t\\t\\t\\t\\t\\t\\t\\t\\t<br />If you want to know more about the entrepreneurs and the loans from Interactuar, you can join the Lending Team called: “Friends of Interactuar Colombia”: http://www.kiva.org/team/interactuar_colombia                                                                                                                                                                                                                                                                                                                                                                                                                                                                                                                          |850.0        |850.0      |funded|Food Production/Sales|Food       |to purchase a fast food cart, a tent, cookware, inventory, and chairs to strengthen the sales of his business.|CO          |Colombia    |Medellín                                  |shared         |0.1                            |COP     |177.0     |2018-06-29 19:20:41.000 +0000|2018-08-06 11:10:04.000 +0000|2018-05-31 07:00:00.000 +0000|2018-08-06 03:17:17.000 +0000|23.0       |13               |6                  |4               |user_favorite, user_favorite, #Biz Durable Asset, #Parent|male            |true             |monthly           |field_partner     |\n",
      "|1604550|Venasio         |English          |Venasio deals in the buying and selling of agricultural produce. He mostly buys and sells maize, beans and ground nuts. He has been in this business for more than seven years and testifies that his business is lucrative. He has also ventured into farming, mostly growing cassava, beans and maize. He hoped to expand and develop his business into a food store, only to be limited by inadequate capital and price fluctuations. He is requesting a loan to buy more beans and rice to sell during the back to school season.                                                                                                                                                                                                                                                                                                                                                                                                                                                                                                                                                                                                                                           |Venasio deals in the buying and selling of agricultural produce. He mostly buys and sells maize, beans and ground nuts. He has been in this business for more than seven years and testifies that his business is lucrative. He has also ventured into farming, mostly growing cassava, beans and maize. He hoped to expand and develop his business into a food store, only to be limited by inadequate capital and price fluctuations. He is requesting a loan to buy more beans and rice to sell during the back to school season.                                                                                                                                                                                                                                                                                                                                                                                                                                                                                                                                                                                                                                           |550.0        |550.0      |funded|Food Production/Sales|Food       |to buy more beans and rice to sell.                                                                           |UG          |Uganda      |Hoima                                     |shared         |0.1                            |UGX     |163.0     |2018-09-12 06:36:55.000 +0000|2018-10-13 21:40:03.000 +0000|2018-08-23 07:00:00.000 +0000|2018-10-01 14:03:57.000 +0000|10.0       |15               |1                  |1               |#Vegan                                                   |male            |true             |monthly           |field_partner     |\n",
      "|557284 |Kadiatu         |English          |Kadiatu is 23 years old and married with 2 children, ages 1 year and 6 years. She runs a food stand business in Torkpoi town in Sierra Leone.\\r\\n\\r\\nShe's been in this business for 4 years and sells pepper, rice, cooking oil, Maggie (bouillon) and fish.   She says that the main challenge to her business is lack of enough capital to run the business.\\r\\n\\r\\nKadiatu requested this loan through BRAC Sierra Leone to purchase more pepper, rice, cooking oil, Maggie, and fish for resale. She says that the extra income from this loan will help her improve her standard of living and educate her child. In the future, she would like to expand her business more. She is grateful for your support.\\r\\n                                                                                                                                                                                                                                                                                                                                                                                                                                                        |null                                                                                                                                                                                                                                                                                                                                                                                                                                                                                                                                                                                                                                                                                                                                                                                                                                                                                                                                                                                                                                                                                                                                                                            |125.0        |125.0      |funded|Food Stall           |Food       |to purchase more pepper, rice, cooking oil, Maggie (bouillon) and fish for resale.                            |SL          |Sierra Leone|Torkpoi town Bo                           |shared         |0.1                            |SLL     |183.0     |2013-05-07 17:34:27.000 +0000|2013-06-09 22:10:02.000 +0000|2013-04-08 07:00:00.000 +0000|2013-05-11 04:43:58.000 +0000|11.0       |5                |1                  |1               |null                                                     |female          |true             |monthly           |field_partner     |\n",
      "+-------+----------------+-----------------+--------------------------------------------------------------------------------------------------------------------------------------------------------------------------------------------------------------------------------------------------------------------------------------------------------------------------------------------------------------------------------------------------------------------------------------------------------------------------------------------------------------------------------------------------------------------------------------------------------------------------------------------------------------------------------------------------------------------------------------------------------------------------------------------------------------------------------------------------------------------------------------------------------------------------------------------------------------------------------------------------------------------------------------------------------------------------------------------------------------------------------------------------------------------------------+--------------------------------------------------------------------------------------------------------------------------------------------------------------------------------------------------------------------------------------------------------------------------------------------------------------------------------------------------------------------------------------------------------------------------------------------------------------------------------------------------------------------------------------------------------------------------------------------------------------------------------------------------------------------------------------------------------------------------------------------------------------------------------------------------------------------------------------------------------------------------------------------------------------------------------------------------------------------------------------------------------------------------------------------------------------------------------------------------------------------------------------------------------------------------------+-------------+-----------+------+---------------------+-----------+--------------------------------------------------------------------------------------------------------------+------------+------------+------------------------------------------+---------------+-------------------------------+--------+----------+-----------------------------+-----------------------------+-----------------------------+-----------------------------+-----------+-----------------+-------------------+----------------+---------------------------------------------------------+----------------+-----------------+------------------+------------------+\n",
      "only showing top 10 rows\n",
      "\n"
     ]
    }
   ],
   "source": [
    "df_loans.show(10,False)"
   ]
  },
  {
   "cell_type": "markdown",
   "id": "356566c1",
   "metadata": {},
   "source": [
    "# - Get first row"
   ]
  },
  {
   "cell_type": "code",
   "execution_count": 43,
   "id": "c9574e4d",
   "metadata": {},
   "outputs": [],
   "source": [
    "x = df_loans.first()"
   ]
  },
  {
   "cell_type": "code",
   "execution_count": 44,
   "id": "26c611ab",
   "metadata": {},
   "outputs": [
    {
     "data": {
      "text/plain": [
       "Row(loan_id='1057058', loan_name='\\\\tLucy', original_language='English', description='Lucy is a married woman and has been blessed with five children, all of whom attend school. Together with her husband, they live in their own house that has neither electricity nor piped water. Her monthly expenses are school fees.<br /><br />Lucy has operated a fish selling business for over four years, selling from home to restaurant operators, and passersby. She faces a major challenge of seasonality and perishability leading to losses.<br /><br />With the KES 30,000, Lucy wants to purchase bundles of fish for resale. She dreams of expanding her business and establishing another business in the near future.', description_translated='Lucy is a married woman and has been blessed with five children, all of whom attend school. Together with her husband, they live in their own house that has neither electricity nor piped water. Her monthly expenses are school fees.<br /><br />Lucy has operated a fish selling business for over four years, selling from home to restaurant operators, and passersby. She faces a major challenge of seasonality and perishability leading to losses.<br /><br />With the KES 30,000, Lucy wants to purchase bundles of fish for resale. She dreams of expanding her business and establishing another business in the near future.', funded_amount=300.0, loan_amount=300.0, status='funded', activity_name='Fish Selling', sector_name='Food', loan_use='to purchase bundles of fish for resale.', country_code='KE', country_name='Kenya', town_name='Kisauni', currency_policy='shared', currency_exchange_coverage_rate=0.1, currency='KES', partner_id=164.0, posted_time='2016-04-20 07:05:43.000 +0000', planned_expiration_time='2016-05-24 15:10:07.000 +0000', disburse_time='2016-04-18 07:00:00.000 +0000', raised_time='2016-04-26 05:00:58.000 +0000', lender_term=14.0, num_lenders_total=11, num_journal_entries=1, num_bulk_entries=1, tags='#Fabrics, #Parent, #Woman-Owned Business, #Schooling', borrower_genders='female', borrower_pictured='true', repayment_interval='monthly', distribution_model='field_partner')"
      ]
     },
     "execution_count": 44,
     "metadata": {},
     "output_type": "execute_result"
    }
   ],
   "source": [
    "x"
   ]
  },
  {
   "cell_type": "markdown",
   "id": "9df45e92",
   "metadata": {},
   "source": [
    "# - Different Loan Status"
   ]
  },
  {
   "cell_type": "code",
   "execution_count": 45,
   "id": "45ab714c",
   "metadata": {},
   "outputs": [
    {
     "name": "stdout",
     "output_type": "stream",
     "text": [
      "+-----------+\n",
      "|     status|\n",
      "+-----------+\n",
      "|   refunded|\n",
      "|fundRaising|\n",
      "|    expired|\n",
      "|     funded|\n",
      "+-----------+\n",
      "\n"
     ]
    }
   ],
   "source": [
    "df_loans.select('status').distinct().show()"
   ]
  },
  {
   "cell_type": "markdown",
   "id": "714ac012",
   "metadata": {},
   "source": [
    "# - Filter"
   ]
  },
  {
   "cell_type": "code",
   "execution_count": 46,
   "id": "d040d0b5",
   "metadata": {},
   "outputs": [
    {
     "data": {
      "text/plain": [
       "1510115"
      ]
     },
     "execution_count": 46,
     "metadata": {},
     "output_type": "execute_result"
    }
   ],
   "source": [
    "df_loans.filter(df_loans.status == 'funded').count()"
   ]
  },
  {
   "cell_type": "code",
   "execution_count": 47,
   "id": "4e96c9d2",
   "metadata": {},
   "outputs": [
    {
     "data": {
      "text/plain": [
       "5336"
      ]
     },
     "execution_count": 47,
     "metadata": {},
     "output_type": "execute_result"
    }
   ],
   "source": [
    "df_loans.filter(\"status == 'refunded'\").count()"
   ]
  },
  {
   "cell_type": "code",
   "execution_count": 48,
   "id": "f646ab29",
   "metadata": {},
   "outputs": [
    {
     "data": {
      "text/plain": [
       "77642"
      ]
     },
     "execution_count": 48,
     "metadata": {},
     "output_type": "execute_result"
    }
   ],
   "source": [
    "df_loans.where(\"status == 'expired'\").count()"
   ]
  },
  {
   "cell_type": "markdown",
   "id": "77529c6a",
   "metadata": {},
   "source": [
    "# - Select distinct sector names"
   ]
  },
  {
   "cell_type": "code",
   "execution_count": 49,
   "id": "310197a3",
   "metadata": {},
   "outputs": [
    {
     "name": "stdout",
     "output_type": "stream",
     "text": [
      "+--------------+\n",
      "|sector_name   |\n",
      "+--------------+\n",
      "|Services      |\n",
      "|Wholesale     |\n",
      "|Education     |\n",
      "|Food          |\n",
      "|Entertainment |\n",
      "|Housing       |\n",
      "|Health        |\n",
      "|Clothing      |\n",
      "|Personal Use  |\n",
      "|Construction  |\n",
      "|Agriculture   |\n",
      "|Arts          |\n",
      "|Retail        |\n",
      "|Manufacturing |\n",
      "|Transportation|\n",
      "+--------------+\n",
      "\n"
     ]
    }
   ],
   "source": [
    "df_loans.select('sector_name').distinct().show(truncate = False)"
   ]
  },
  {
   "cell_type": "markdown",
   "id": "7dbb493e",
   "metadata": {},
   "source": [
    "# - Number of activities in Services sector"
   ]
  },
  {
   "cell_type": "code",
   "execution_count": 51,
   "id": "882d063c",
   "metadata": {},
   "outputs": [
    {
     "name": "stdout",
     "output_type": "stream",
     "text": [
      "+-------------------+\n",
      "|      activity_name|\n",
      "+-------------------+\n",
      "|           Services|\n",
      "|   Machinery Rental|\n",
      "|Mobile Transactions|\n",
      "|  Motorcycle Repair|\n",
      "|          Computers|\n",
      "|             Energy|\n",
      "|          Tailoring|\n",
      "|      Internet Cafe|\n",
      "|            Laundry|\n",
      "|        Electrician|\n",
      "|           Printing|\n",
      "|     Communications|\n",
      "|        Call Center|\n",
      "|        Bookbinding|\n",
      "|            Cobbler|\n",
      "|          Utilities|\n",
      "|              Hotel|\n",
      "| Electronics Repair|\n",
      "|    Vehicle Repairs|\n",
      "|   Air Conditioning|\n",
      "+-------------------+\n",
      "only showing top 20 rows\n",
      "\n"
     ]
    }
   ],
   "source": [
    "df_loans.where(\"sector_name = 'Services'\").select('activity_name').distinct().show()"
   ]
  },
  {
   "cell_type": "code",
   "execution_count": 52,
   "id": "b91b909c",
   "metadata": {},
   "outputs": [
    {
     "data": {
      "text/plain": [
       "39"
      ]
     },
     "execution_count": 52,
     "metadata": {},
     "output_type": "execute_result"
    }
   ],
   "source": [
    "df_loans.where(\"sector_name = 'Services'\").select('activity_name').distinct().count()"
   ]
  },
  {
   "cell_type": "markdown",
   "id": "57e0b001",
   "metadata": {},
   "source": [
    "# - Number of records with mobile transactions"
   ]
  },
  {
   "cell_type": "code",
   "execution_count": 53,
   "id": "e253ca97",
   "metadata": {},
   "outputs": [
    {
     "data": {
      "text/plain": [
       "1624"
      ]
     },
     "execution_count": 53,
     "metadata": {},
     "output_type": "execute_result"
    }
   ],
   "source": [
    "# 1st Approach\n",
    "\n",
    "df_loans.where(\"sector_name = 'Services' and activity_name = 'Mobile Transactions'\").count()"
   ]
  },
  {
   "cell_type": "code",
   "execution_count": 55,
   "id": "34810a69",
   "metadata": {},
   "outputs": [
    {
     "data": {
      "text/plain": [
       "1624"
      ]
     },
     "execution_count": 55,
     "metadata": {},
     "output_type": "execute_result"
    }
   ],
   "source": [
    "# 2nd Approach\n",
    "\n",
    "df_loans.where((df_loans.sector_name == 'Services') & (df_loans.activity_name == 'Mobile Transactions')).count()"
   ]
  },
  {
   "cell_type": "code",
   "execution_count": 56,
   "id": "aeede5c1",
   "metadata": {},
   "outputs": [
    {
     "data": {
      "text/plain": [
       "1624"
      ]
     },
     "execution_count": 56,
     "metadata": {},
     "output_type": "execute_result"
    }
   ],
   "source": [
    "# 3rd Approach\n",
    "\n",
    "df_loans.where((f.col('sector_name') == 'Services') & (f.col('activity_name') == 'Mobile Transactions')).count()"
   ]
  },
  {
   "cell_type": "markdown",
   "id": "7aaa0aec",
   "metadata": {},
   "source": [
    "# - Number of records with Beauty Salon and Barber Shop"
   ]
  },
  {
   "cell_type": "code",
   "execution_count": 57,
   "id": "e41589dd",
   "metadata": {},
   "outputs": [
    {
     "data": {
      "text/plain": [
       "19558"
      ]
     },
     "execution_count": 57,
     "metadata": {},
     "output_type": "execute_result"
    }
   ],
   "source": [
    "df_loans.where((f.col('sector_name') == 'Services') & (f.col('activity_name').isin('Beauty Salon','Barber Shop'))).count()"
   ]
  },
  {
   "cell_type": "markdown",
   "id": "3b65ff78",
   "metadata": {},
   "source": [
    "# - Loans with disburse time between 2015-01-01 and 2018-01-01"
   ]
  },
  {
   "cell_type": "code",
   "execution_count": 59,
   "id": "d0465f92",
   "metadata": {},
   "outputs": [
    {
     "name": "stdout",
     "output_type": "stream",
     "text": [
      "+-----------------------------+\n",
      "|disburse_time                |\n",
      "+-----------------------------+\n",
      "|2016-04-18 07:00:00.000 +0000|\n",
      "|2012-12-14 08:00:00.000 +0000|\n",
      "|2011-09-13 07:00:00.000 +0000|\n",
      "|2014-09-20 07:00:00.000 +0000|\n",
      "|2014-04-10 07:00:00.000 +0000|\n",
      "|2020-03-04 08:00:00.000 +0000|\n",
      "|2012-10-20 07:00:00.000 +0000|\n",
      "|2018-05-31 07:00:00.000 +0000|\n",
      "|2018-08-23 07:00:00.000 +0000|\n",
      "|2013-04-08 07:00:00.000 +0000|\n",
      "+-----------------------------+\n",
      "only showing top 10 rows\n",
      "\n"
     ]
    }
   ],
   "source": [
    "df_loans.select('disburse_time').show(10,False)"
   ]
  },
  {
   "cell_type": "markdown",
   "id": "667a76a2",
   "metadata": {},
   "source": [
    "# Right format = yyyy-MM-dd\n",
    "## Wrong format = dd/mm/yyyy"
   ]
  },
  {
   "cell_type": "code",
   "execution_count": 64,
   "id": "9435283e",
   "metadata": {},
   "outputs": [
    {
     "name": "stdout",
     "output_type": "stream",
     "text": [
      "+--------------+\n",
      "|disbursed_date|\n",
      "+--------------+\n",
      "|    2016-04-18|\n",
      "|    2012-12-14|\n",
      "|    2011-09-13|\n",
      "|    2014-09-20|\n",
      "|    2014-04-10|\n",
      "|    2020-03-04|\n",
      "|    2012-10-20|\n",
      "|    2018-05-31|\n",
      "|    2018-08-23|\n",
      "|    2013-04-08|\n",
      "|    2017-09-14|\n",
      "|    2013-12-19|\n",
      "|    2014-12-19|\n",
      "|    2012-10-16|\n",
      "|    2019-04-30|\n",
      "|    2014-02-20|\n",
      "|    2019-12-30|\n",
      "|    2013-06-20|\n",
      "|    2018-12-26|\n",
      "|    2014-11-28|\n",
      "+--------------+\n",
      "only showing top 20 rows\n",
      "\n"
     ]
    }
   ],
   "source": [
    "df_loans.select(f.col('disburse_time').substr(1,10).alias('disbursed_date').cast('date')).show()"
   ]
  },
  {
   "cell_type": "code",
   "execution_count": 65,
   "id": "2c44cf77",
   "metadata": {},
   "outputs": [
    {
     "name": "stdout",
     "output_type": "stream",
     "text": [
      "+-------+---------------+-----------------------------+\n",
      "|loan_id|loan_name      |disburse_time                |\n",
      "+-------+---------------+-----------------------------+\n",
      "|1057058|\\tLucy         |2016-04-18 07:00:00.000 +0000|\n",
      "|1383778|Yesica Marilú  |2017-09-14 07:00:00.000 +0000|\n",
      "|835424 |Vilma          |2015-01-26 08:00:00.000 +0000|\n",
      "|1296242|Mulyati S      |2017-05-08 07:00:00.000 +0000|\n",
      "|1233188|Nida           |2017-01-20 08:00:00.000 +0000|\n",
      "|950357 |Bernaditha     |2015-08-25 07:00:00.000 +0000|\n",
      "|1272007|Rebecca        |2017-03-06 08:00:00.000 +0000|\n",
      "|1316761|Glenda         |2017-05-24 07:00:00.000 +0000|\n",
      "|1124820|ROSALINA       |2016-07-14 07:00:00.000 +0000|\n",
      "|1306337|Nancy          |2017-05-05 07:00:00.000 +0000|\n",
      "|1033537|Susan          |2016-02-05 08:00:00.000 +0000|\n",
      "|871235 |Durdona        |2015-03-17 07:00:00.000 +0000|\n",
      "|987778 |Thanh          |2015-10-31 07:00:00.000 +0000|\n",
      "|938334 |Rafael de Jesus|2015-08-11 07:00:00.000 +0000|\n",
      "|1421780|Leonara        |2017-10-27 07:00:00.000 +0000|\n",
      "|1144728|Norma Constanza|2016-08-17 07:00:00.000 +0000|\n",
      "|1358497|Ratih          |2017-07-24 07:00:00.000 +0000|\n",
      "|1411948|Adoracion      |2017-10-18 07:00:00.000 +0000|\n",
      "|1358586|Ma. Marilac    |2017-07-27 07:00:00.000 +0000|\n",
      "|1143724|Lagomau        |2016-08-12 07:00:00.000 +0000|\n",
      "+-------+---------------+-----------------------------+\n",
      "only showing top 20 rows\n",
      "\n"
     ]
    }
   ],
   "source": [
    "df_loans.filter(f.col('disburse_time').substr(1,10).cast('date').between('2015-01-01','2018-01-01'))\\\n",
    ".select('loan_id','loan_name','disburse_time').show(truncate = False)"
   ]
  },
  {
   "cell_type": "code",
   "execution_count": null,
   "id": "5ff573ef",
   "metadata": {},
   "outputs": [],
   "source": []
  }
 ],
 "metadata": {
  "kernelspec": {
   "display_name": "Python 3 (ipykernel)",
   "language": "python",
   "name": "python3"
  },
  "language_info": {
   "codemirror_mode": {
    "name": "ipython",
    "version": 3
   },
   "file_extension": ".py",
   "mimetype": "text/x-python",
   "name": "python",
   "nbconvert_exporter": "python",
   "pygments_lexer": "ipython3",
   "version": "3.9.12"
  }
 },
 "nbformat": 4,
 "nbformat_minor": 5
}
